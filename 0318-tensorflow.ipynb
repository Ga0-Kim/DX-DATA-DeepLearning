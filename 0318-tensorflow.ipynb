{
 "cells": [
  {
   "cell_type": "markdown",
   "id": "fc3539f3",
   "metadata": {},
   "source": [
    "# Tensorflow 버전 확인"
   ]
  },
  {
   "cell_type": "code",
   "execution_count": 2,
   "id": "1c507222",
   "metadata": {},
   "outputs": [
    {
     "name": "stdout",
     "output_type": "stream",
     "text": [
      "Collecting tensorflow\n",
      "  Obtaining dependency information for tensorflow from https://files.pythonhosted.org/packages/e4/14/d795bb156f8cc10eb1dcfe1332b7dbb8405b634688980aa9be8f885cc888/tensorflow-2.16.1-cp311-cp311-win_amd64.whl.metadata\n",
      "  Downloading tensorflow-2.16.1-cp311-cp311-win_amd64.whl.metadata (3.5 kB)\n",
      "Collecting tensorflow-intel==2.16.1 (from tensorflow)\n",
      "  Obtaining dependency information for tensorflow-intel==2.16.1 from https://files.pythonhosted.org/packages/e0/36/6278e4e7e69a90c00e0f82944d8f2713dd85a69d1add455d9e50446837ab/tensorflow_intel-2.16.1-cp311-cp311-win_amd64.whl.metadata\n",
      "  Downloading tensorflow_intel-2.16.1-cp311-cp311-win_amd64.whl.metadata (5.0 kB)\n",
      "Collecting absl-py>=1.0.0 (from tensorflow-intel==2.16.1->tensorflow)\n",
      "  Obtaining dependency information for absl-py>=1.0.0 from https://files.pythonhosted.org/packages/a2/ad/e0d3c824784ff121c03cc031f944bc7e139a8f1870ffd2845cc2dd76f6c4/absl_py-2.1.0-py3-none-any.whl.metadata\n",
      "  Downloading absl_py-2.1.0-py3-none-any.whl.metadata (2.3 kB)\n",
      "Collecting astunparse>=1.6.0 (from tensorflow-intel==2.16.1->tensorflow)\n",
      "  Obtaining dependency information for astunparse>=1.6.0 from https://files.pythonhosted.org/packages/2b/03/13dde6512ad7b4557eb792fbcf0c653af6076b81e5941d36ec61f7ce6028/astunparse-1.6.3-py2.py3-none-any.whl.metadata\n",
      "  Downloading astunparse-1.6.3-py2.py3-none-any.whl.metadata (4.4 kB)\n",
      "Collecting flatbuffers>=23.5.26 (from tensorflow-intel==2.16.1->tensorflow)\n",
      "  Obtaining dependency information for flatbuffers>=23.5.26 from https://files.pythonhosted.org/packages/bf/45/c961e3cb6ddad76b325c163d730562bb6deb1ace5acbed0306f5fbefb90e/flatbuffers-24.3.7-py2.py3-none-any.whl.metadata\n",
      "  Downloading flatbuffers-24.3.7-py2.py3-none-any.whl.metadata (849 bytes)\n",
      "Collecting gast!=0.5.0,!=0.5.1,!=0.5.2,>=0.2.1 (from tensorflow-intel==2.16.1->tensorflow)\n",
      "  Obtaining dependency information for gast!=0.5.0,!=0.5.1,!=0.5.2,>=0.2.1 from https://files.pythonhosted.org/packages/fa/39/5aae571e5a5f4de9c3445dae08a530498e5c53b0e74410eeeb0991c79047/gast-0.5.4-py3-none-any.whl.metadata\n",
      "  Downloading gast-0.5.4-py3-none-any.whl.metadata (1.3 kB)\n",
      "Collecting google-pasta>=0.1.1 (from tensorflow-intel==2.16.1->tensorflow)\n",
      "  Obtaining dependency information for google-pasta>=0.1.1 from https://files.pythonhosted.org/packages/a3/de/c648ef6835192e6e2cc03f40b19eeda4382c49b5bafb43d88b931c4c74ac/google_pasta-0.2.0-py3-none-any.whl.metadata\n",
      "  Downloading google_pasta-0.2.0-py3-none-any.whl.metadata (814 bytes)\n",
      "Collecting h5py>=3.10.0 (from tensorflow-intel==2.16.1->tensorflow)\n",
      "  Obtaining dependency information for h5py>=3.10.0 from https://files.pythonhosted.org/packages/b6/35/ed21094eb4d8acf31ccc7666a4d8701c1ce38f8d1fa3c7036f24416f6337/h5py-3.10.0-cp311-cp311-win_amd64.whl.metadata\n",
      "  Downloading h5py-3.10.0-cp311-cp311-win_amd64.whl.metadata (2.5 kB)\n",
      "Collecting libclang>=13.0.0 (from tensorflow-intel==2.16.1->tensorflow)\n",
      "  Obtaining dependency information for libclang>=13.0.0 from https://files.pythonhosted.org/packages/0b/2d/3f480b1e1d31eb3d6de5e3ef641954e5c67430d5ac93b7fa7e07589576c7/libclang-18.1.1-py2.py3-none-win_amd64.whl.metadata\n",
      "  Downloading libclang-18.1.1-py2.py3-none-win_amd64.whl.metadata (5.3 kB)\n",
      "Collecting ml-dtypes~=0.3.1 (from tensorflow-intel==2.16.1->tensorflow)\n",
      "  Obtaining dependency information for ml-dtypes~=0.3.1 from https://files.pythonhosted.org/packages/a4/db/1784b87285588788170f87e987bfb4bda218d62a70a81ebb66c94e7f9b95/ml_dtypes-0.3.2-cp311-cp311-win_amd64.whl.metadata\n",
      "  Downloading ml_dtypes-0.3.2-cp311-cp311-win_amd64.whl.metadata (20 kB)\n",
      "Requirement already satisfied: opt-einsum>=2.3.2 in c:\\users\\user\\anaconda3\\lib\\site-packages (from tensorflow-intel==2.16.1->tensorflow) (3.3.0)\n",
      "Requirement already satisfied: packaging in c:\\users\\user\\anaconda3\\lib\\site-packages (from tensorflow-intel==2.16.1->tensorflow) (23.1)\n",
      "Collecting protobuf!=4.21.0,!=4.21.1,!=4.21.2,!=4.21.3,!=4.21.4,!=4.21.5,<5.0.0dev,>=3.20.3 (from tensorflow-intel==2.16.1->tensorflow)\n",
      "  Obtaining dependency information for protobuf!=4.21.0,!=4.21.1,!=4.21.2,!=4.21.3,!=4.21.4,!=4.21.5,<5.0.0dev,>=3.20.3 from https://files.pythonhosted.org/packages/ad/6e/1bed3b7c904cc178cb8ee8dbaf72934964452b3de95b7a63412591edb93c/protobuf-4.25.3-cp310-abi3-win_amd64.whl.metadata\n",
      "  Downloading protobuf-4.25.3-cp310-abi3-win_amd64.whl.metadata (541 bytes)\n",
      "Requirement already satisfied: requests<3,>=2.21.0 in c:\\users\\user\\anaconda3\\lib\\site-packages (from tensorflow-intel==2.16.1->tensorflow) (2.31.0)\n",
      "Requirement already satisfied: setuptools in c:\\users\\user\\anaconda3\\lib\\site-packages (from tensorflow-intel==2.16.1->tensorflow) (68.0.0)\n",
      "Requirement already satisfied: six>=1.12.0 in c:\\users\\user\\anaconda3\\lib\\site-packages (from tensorflow-intel==2.16.1->tensorflow) (1.16.0)\n",
      "Collecting termcolor>=1.1.0 (from tensorflow-intel==2.16.1->tensorflow)\n",
      "  Obtaining dependency information for termcolor>=1.1.0 from https://files.pythonhosted.org/packages/d9/5f/8c716e47b3a50cbd7c146f45881e11d9414def768b7cd9c5e6650ec2a80a/termcolor-2.4.0-py3-none-any.whl.metadata\n",
      "  Downloading termcolor-2.4.0-py3-none-any.whl.metadata (6.1 kB)\n",
      "Requirement already satisfied: typing-extensions>=3.6.6 in c:\\users\\user\\anaconda3\\lib\\site-packages (from tensorflow-intel==2.16.1->tensorflow) (4.9.0)\n",
      "Requirement already satisfied: wrapt>=1.11.0 in c:\\users\\user\\anaconda3\\lib\\site-packages (from tensorflow-intel==2.16.1->tensorflow) (1.14.1)\n",
      "Collecting grpcio<2.0,>=1.24.3 (from tensorflow-intel==2.16.1->tensorflow)\n",
      "  Obtaining dependency information for grpcio<2.0,>=1.24.3 from https://files.pythonhosted.org/packages/78/a9/eaa378e6fe421c2f61bdd4b92439b2b8bb320526f2b0e08fcf4e21c2f855/grpcio-1.62.1-cp311-cp311-win_amd64.whl.metadata\n",
      "  Downloading grpcio-1.62.1-cp311-cp311-win_amd64.whl.metadata (4.2 kB)\n",
      "Collecting tensorboard<2.17,>=2.16 (from tensorflow-intel==2.16.1->tensorflow)\n",
      "  Obtaining dependency information for tensorboard<2.17,>=2.16 from https://files.pythonhosted.org/packages/3a/d0/b97889ffa769e2d1fdebb632084d5e8b53fc299d43a537acee7ec0c021a3/tensorboard-2.16.2-py3-none-any.whl.metadata\n",
      "  Downloading tensorboard-2.16.2-py3-none-any.whl.metadata (1.6 kB)\n",
      "Collecting keras>=3.0.0 (from tensorflow-intel==2.16.1->tensorflow)\n",
      "  Obtaining dependency information for keras>=3.0.0 from https://files.pythonhosted.org/packages/b0/b2/104733bb67fde86f3d10010f0b5c93cfa1d5bf552f904584cf9e5b3ba719/keras-3.0.5-py3-none-any.whl.metadata\n",
      "  Downloading keras-3.0.5-py3-none-any.whl.metadata (4.8 kB)\n",
      "Collecting tensorflow-io-gcs-filesystem>=0.23.1 (from tensorflow-intel==2.16.1->tensorflow)\n",
      "  Obtaining dependency information for tensorflow-io-gcs-filesystem>=0.23.1 from https://files.pythonhosted.org/packages/ac/4e/9566a313927be582ca99455a9523a097c7888fc819695bdc08415432b202/tensorflow_io_gcs_filesystem-0.31.0-cp311-cp311-win_amd64.whl.metadata\n",
      "  Downloading tensorflow_io_gcs_filesystem-0.31.0-cp311-cp311-win_amd64.whl.metadata (14 kB)\n",
      "Requirement already satisfied: numpy<2.0.0,>=1.23.5 in c:\\users\\user\\anaconda3\\lib\\site-packages (from tensorflow-intel==2.16.1->tensorflow) (1.24.3)\n",
      "Requirement already satisfied: wheel<1.0,>=0.23.0 in c:\\users\\user\\anaconda3\\lib\\site-packages (from astunparse>=1.6.0->tensorflow-intel==2.16.1->tensorflow) (0.38.4)\n",
      "Collecting rich (from keras>=3.0.0->tensorflow-intel==2.16.1->tensorflow)\n",
      "  Obtaining dependency information for rich from https://files.pythonhosted.org/packages/87/67/a37f6214d0e9fe57f6ae54b2956d550ca8365857f42a1ce0392bb21d9410/rich-13.7.1-py3-none-any.whl.metadata\n",
      "  Downloading rich-13.7.1-py3-none-any.whl.metadata (18 kB)\n",
      "Collecting namex (from keras>=3.0.0->tensorflow-intel==2.16.1->tensorflow)\n",
      "  Obtaining dependency information for namex from https://files.pythonhosted.org/packages/cd/43/b971880e2eb45c0bee2093710ae8044764a89afe9620df34a231c6f0ecd2/namex-0.0.7-py3-none-any.whl.metadata\n",
      "  Downloading namex-0.0.7-py3-none-any.whl.metadata (246 bytes)\n",
      "Collecting dm-tree (from keras>=3.0.0->tensorflow-intel==2.16.1->tensorflow)\n",
      "  Obtaining dependency information for dm-tree from https://files.pythonhosted.org/packages/e4/c1/522041457444b67125ac9527208bb3148f63d7dce0a86ffa589ec763a10e/dm_tree-0.1.8-cp311-cp311-win_amd64.whl.metadata\n",
      "  Downloading dm_tree-0.1.8-cp311-cp311-win_amd64.whl.metadata (2.0 kB)\n",
      "Requirement already satisfied: charset-normalizer<4,>=2 in c:\\users\\user\\anaconda3\\lib\\site-packages (from requests<3,>=2.21.0->tensorflow-intel==2.16.1->tensorflow) (2.0.4)\n",
      "Requirement already satisfied: idna<4,>=2.5 in c:\\users\\user\\anaconda3\\lib\\site-packages (from requests<3,>=2.21.0->tensorflow-intel==2.16.1->tensorflow) (3.4)\n",
      "Requirement already satisfied: urllib3<3,>=1.21.1 in c:\\users\\user\\anaconda3\\lib\\site-packages (from requests<3,>=2.21.0->tensorflow-intel==2.16.1->tensorflow) (1.26.16)\n",
      "Requirement already satisfied: certifi>=2017.4.17 in c:\\users\\user\\anaconda3\\lib\\site-packages (from requests<3,>=2.21.0->tensorflow-intel==2.16.1->tensorflow) (2023.7.22)\n",
      "Requirement already satisfied: markdown>=2.6.8 in c:\\users\\user\\anaconda3\\lib\\site-packages (from tensorboard<2.17,>=2.16->tensorflow-intel==2.16.1->tensorflow) (3.4.1)\n",
      "Collecting tensorboard-data-server<0.8.0,>=0.7.0 (from tensorboard<2.17,>=2.16->tensorflow-intel==2.16.1->tensorflow)\n",
      "  Obtaining dependency information for tensorboard-data-server<0.8.0,>=0.7.0 from https://files.pythonhosted.org/packages/7a/13/e503968fefabd4c6b2650af21e110aa8466fe21432cd7c43a84577a89438/tensorboard_data_server-0.7.2-py3-none-any.whl.metadata\n",
      "  Downloading tensorboard_data_server-0.7.2-py3-none-any.whl.metadata (1.1 kB)\n",
      "Requirement already satisfied: werkzeug>=1.0.1 in c:\\users\\user\\anaconda3\\lib\\site-packages (from tensorboard<2.17,>=2.16->tensorflow-intel==2.16.1->tensorflow) (2.2.3)\n",
      "Requirement already satisfied: MarkupSafe>=2.1.1 in c:\\users\\user\\anaconda3\\lib\\site-packages (from werkzeug>=1.0.1->tensorboard<2.17,>=2.16->tensorflow-intel==2.16.1->tensorflow) (2.1.1)\n",
      "Requirement already satisfied: markdown-it-py>=2.2.0 in c:\\users\\user\\anaconda3\\lib\\site-packages (from rich->keras>=3.0.0->tensorflow-intel==2.16.1->tensorflow) (2.2.0)\n",
      "Requirement already satisfied: pygments<3.0.0,>=2.13.0 in c:\\users\\user\\anaconda3\\lib\\site-packages (from rich->keras>=3.0.0->tensorflow-intel==2.16.1->tensorflow) (2.15.1)\n",
      "Requirement already satisfied: mdurl~=0.1 in c:\\users\\user\\anaconda3\\lib\\site-packages (from markdown-it-py>=2.2.0->rich->keras>=3.0.0->tensorflow-intel==2.16.1->tensorflow) (0.1.0)\n",
      "Downloading tensorflow-2.16.1-cp311-cp311-win_amd64.whl (2.1 kB)\n",
      "Downloading tensorflow_intel-2.16.1-cp311-cp311-win_amd64.whl (377.0 MB)\n",
      "   ---------------------------------------- 0.0/377.0 MB ? eta -:--:--\n",
      "   ---------------------------------------- 1.5/377.0 MB 32.5 MB/s eta 0:00:12\n",
      "   ---------------------------------------- 3.7/377.0 MB 39.5 MB/s eta 0:00:10\n",
      "    --------------------------------------- 5.3/377.0 MB 38.0 MB/s eta 0:00:10\n",
      "    --------------------------------------- 7.3/377.0 MB 38.8 MB/s eta 0:00:10\n",
      "    --------------------------------------- 7.3/377.0 MB 39.2 MB/s eta 0:00:10\n",
      "    --------------------------------------- 7.3/377.0 MB 39.2 MB/s eta 0:00:10\n",
      "    --------------------------------------- 7.3/377.0 MB 39.2 MB/s eta 0:00:10\n",
      "    --------------------------------------- 7.3/377.0 MB 39.2 MB/s eta 0:00:10\n",
      "    --------------------------------------- 7.3/377.0 MB 39.2 MB/s eta 0:00:10\n",
      "    --------------------------------------- 8.9/377.0 MB 19.0 MB/s eta 0:00:20\n",
      "   - -------------------------------------- 10.4/377.0 MB 19.9 MB/s eta 0:00:19\n",
      "   - -------------------------------------- 11.9/377.0 MB 19.8 MB/s eta 0:00:19\n",
      "   - -------------------------------------- 13.5/377.0 MB 19.3 MB/s eta 0:00:19\n",
      "   - -------------------------------------- 15.1/377.0 MB 19.3 MB/s eta 0:00:19\n",
      "   - -------------------------------------- 16.9/377.0 MB 19.2 MB/s eta 0:00:19\n",
      "   - -------------------------------------- 18.7/377.0 MB 34.4 MB/s eta 0:00:11\n",
      "   -- ------------------------------------- 20.2/377.0 MB 34.6 MB/s eta 0:00:11\n",
      "   -- ------------------------------------- 22.1/377.0 MB 36.4 MB/s eta 0:00:10\n",
      "   -- ------------------------------------- 23.9/377.0 MB 36.4 MB/s eta 0:00:10\n",
      "   -- ------------------------------------- 25.5/377.0 MB 36.4 MB/s eta 0:00:10\n",
      "   -- ------------------------------------- 27.5/377.0 MB 36.4 MB/s eta 0:00:10\n",
      "   --- ------------------------------------ 29.3/377.0 MB 38.5 MB/s eta 0:00:10\n",
      "   --- ------------------------------------ 31.4/377.0 MB 38.5 MB/s eta 0:00:09\n",
      "   --- ------------------------------------ 33.4/377.0 MB 40.9 MB/s eta 0:00:09\n",
      "   --- ------------------------------------ 35.4/377.0 MB 40.9 MB/s eta 0:00:09\n",
      "   --- ------------------------------------ 37.2/377.0 MB 40.9 MB/s eta 0:00:09\n",
      "   ---- ----------------------------------- 39.0/377.0 MB 40.9 MB/s eta 0:00:09\n",
      "   ---- ----------------------------------- 40.8/377.0 MB 40.9 MB/s eta 0:00:09\n",
      "   ---- ----------------------------------- 42.6/377.0 MB 38.5 MB/s eta 0:00:09\n",
      "   ---- ----------------------------------- 44.5/377.0 MB 38.5 MB/s eta 0:00:09\n",
      "   ---- ----------------------------------- 46.3/377.0 MB 38.5 MB/s eta 0:00:09\n",
      "   ----- ---------------------------------- 48.1/377.0 MB 38.5 MB/s eta 0:00:09\n",
      "   ----- ---------------------------------- 50.3/377.0 MB 38.6 MB/s eta 0:00:09\n",
      "   ----- ---------------------------------- 51.4/377.0 MB 40.9 MB/s eta 0:00:08\n",
      "   ----- ---------------------------------- 51.4/377.0 MB 40.9 MB/s eta 0:00:08\n",
      "   ----- ---------------------------------- 51.4/377.0 MB 40.9 MB/s eta 0:00:08\n",
      "   ----- ---------------------------------- 51.4/377.0 MB 40.9 MB/s eta 0:00:08\n",
      "   ----- ---------------------------------- 52.3/377.0 MB 23.4 MB/s eta 0:00:14\n",
      "   ----- ---------------------------------- 53.7/377.0 MB 23.4 MB/s eta 0:00:14\n",
      "   ----- ---------------------------------- 55.1/377.0 MB 21.8 MB/s eta 0:00:15\n",
      "   ------ --------------------------------- 56.7/377.0 MB 22.6 MB/s eta 0:00:15\n",
      "   ------ --------------------------------- 58.5/377.0 MB 21.9 MB/s eta 0:00:15\n",
      "   ------ --------------------------------- 60.3/377.0 MB 21.1 MB/s eta 0:00:15\n",
      "   ------ --------------------------------- 62.2/377.0 MB 34.4 MB/s eta 0:00:10\n",
      "   ------ --------------------------------- 64.2/377.0 MB 36.4 MB/s eta 0:00:09\n",
      "   ------- -------------------------------- 66.2/377.0 MB 38.5 MB/s eta 0:00:09\n",
      "   ------- -------------------------------- 68.1/377.0 MB 43.7 MB/s eta 0:00:08\n",
      "   ------- -------------------------------- 70.0/377.0 MB 40.9 MB/s eta 0:00:08\n",
      "   ------- -------------------------------- 72.0/377.0 MB 40.9 MB/s eta 0:00:08\n",
      "   ------- -------------------------------- 74.0/377.0 MB 40.9 MB/s eta 0:00:08\n",
      "   -------- ------------------------------- 75.9/377.0 MB 40.9 MB/s eta 0:00:08\n",
      "   -------- ------------------------------- 77.7/377.0 MB 40.9 MB/s eta 0:00:08\n",
      "   -------- ------------------------------- 79.3/377.0 MB 38.5 MB/s eta 0:00:08\n",
      "   -------- ------------------------------- 81.0/377.0 MB 38.5 MB/s eta 0:00:08\n",
      "   -------- ------------------------------- 83.0/377.0 MB 38.5 MB/s eta 0:00:08\n",
      "   --------- ------------------------------ 84.8/377.0 MB 40.9 MB/s eta 0:00:08\n",
      "   --------- ------------------------------ 86.9/377.0 MB 40.9 MB/s eta 0:00:08\n",
      "   --------- ------------------------------ 88.9/377.0 MB 40.9 MB/s eta 0:00:08\n",
      "   --------- ------------------------------ 90.2/377.0 MB 43.7 MB/s eta 0:00:07\n",
      "   --------- ------------------------------ 90.3/377.0 MB 34.6 MB/s eta 0:00:09\n",
      "   --------- ------------------------------ 92.5/377.0 MB 36.4 MB/s eta 0:00:08\n",
      "   ---------- ----------------------------- 94.2/377.0 MB 34.4 MB/s eta 0:00:09\n",
      "   ---------- ----------------------------- 96.1/377.0 MB 34.4 MB/s eta 0:00:09\n",
      "   ---------- ----------------------------- 97.9/377.0 MB 34.4 MB/s eta 0:00:09\n",
      "   ---------- ---------------------------- 100.0/377.0 MB 34.4 MB/s eta 0:00:09\n",
      "   ---------- ---------------------------- 101.7/377.0 MB 40.9 MB/s eta 0:00:07\n",
      "   ---------- ---------------------------- 103.7/377.0 MB 40.9 MB/s eta 0:00:07\n",
      "   ---------- ---------------------------- 105.3/377.0 MB 40.9 MB/s eta 0:00:07\n",
      "   ----------- --------------------------- 106.8/377.0 MB 38.6 MB/s eta 0:00:07\n",
      "   ----------- --------------------------- 108.8/377.0 MB 38.6 MB/s eta 0:00:07\n",
      "   ----------- --------------------------- 110.9/377.0 MB 38.5 MB/s eta 0:00:07\n",
      "   ----------- --------------------------- 113.0/377.0 MB 40.9 MB/s eta 0:00:07\n",
      "   ----------- --------------------------- 115.0/377.0 MB 40.9 MB/s eta 0:00:07\n",
      "   ------------ -------------------------- 116.4/377.0 MB 40.9 MB/s eta 0:00:07\n",
      "   ------------ -------------------------- 118.1/377.0 MB 40.9 MB/s eta 0:00:07\n",
      "   ------------ -------------------------- 119.9/377.0 MB 38.6 MB/s eta 0:00:07\n",
      "   ------------ -------------------------- 121.6/377.0 MB 38.6 MB/s eta 0:00:07\n",
      "   ------------ -------------------------- 123.5/377.0 MB 36.4 MB/s eta 0:00:07\n",
      "   ------------ -------------------------- 124.9/377.0 MB 34.4 MB/s eta 0:00:08\n",
      "   ------------- ------------------------- 126.4/377.0 MB 36.4 MB/s eta 0:00:07\n",
      "   ------------- ------------------------- 128.0/377.0 MB 34.4 MB/s eta 0:00:08\n",
      "   ------------- ------------------------- 129.6/377.0 MB 34.4 MB/s eta 0:00:08\n",
      "   ------------- ------------------------- 131.4/377.0 MB 34.4 MB/s eta 0:00:08\n",
      "   ------------- ------------------------- 133.2/377.0 MB 34.6 MB/s eta 0:00:08\n",
      "   ------------- ------------------------- 134.9/377.0 MB 36.4 MB/s eta 0:00:07\n",
      "   -------------- ------------------------ 136.6/377.0 MB 36.4 MB/s eta 0:00:07\n",
      "   -------------- ------------------------ 138.4/377.0 MB 36.4 MB/s eta 0:00:07\n",
      "   -------------- ------------------------ 140.3/377.0 MB 38.5 MB/s eta 0:00:07\n",
      "   -------------- ------------------------ 142.2/377.0 MB 38.5 MB/s eta 0:00:07\n",
      "   -------------- ------------------------ 144.1/377.0 MB 38.5 MB/s eta 0:00:07\n",
      "   --------------- ----------------------- 146.0/377.0 MB 38.5 MB/s eta 0:00:07\n",
      "   --------------- ----------------------- 147.8/377.0 MB 38.6 MB/s eta 0:00:06\n",
      "   --------------- ----------------------- 149.4/377.0 MB 38.6 MB/s eta 0:00:06\n",
      "   --------------- ----------------------- 150.9/377.0 MB 38.5 MB/s eta 0:00:06\n",
      "   --------------- ----------------------- 152.7/377.0 MB 36.4 MB/s eta 0:00:07\n",
      "   --------------- ----------------------- 154.2/377.0 MB 36.4 MB/s eta 0:00:07\n",
      "   ---------------- ---------------------- 155.8/377.0 MB 36.4 MB/s eta 0:00:07\n",
      "   ---------------- ---------------------- 157.3/377.0 MB 34.4 MB/s eta 0:00:07\n",
      "   ---------------- ---------------------- 158.9/377.0 MB 34.4 MB/s eta 0:00:07\n",
      "   ---------------- ---------------------- 160.7/377.0 MB 36.4 MB/s eta 0:00:06\n",
      "   ---------------- ---------------------- 162.6/377.0 MB 36.3 MB/s eta 0:00:06\n",
      "   ----------------- --------------------- 164.5/377.0 MB 38.5 MB/s eta 0:00:06\n",
      "   ----------------- --------------------- 166.1/377.0 MB 38.6 MB/s eta 0:00:06\n",
      "   ----------------- --------------------- 167.4/377.0 MB 36.4 MB/s eta 0:00:06\n",
      "   ----------------- --------------------- 169.0/377.0 MB 36.4 MB/s eta 0:00:06\n",
      "   ----------------- --------------------- 170.6/377.0 MB 36.4 MB/s eta 0:00:06\n",
      "   ----------------- --------------------- 172.4/377.0 MB 34.4 MB/s eta 0:00:06\n",
      "   ----------------- --------------------- 173.9/377.0 MB 34.4 MB/s eta 0:00:06\n",
      "   ------------------ -------------------- 175.5/377.0 MB 34.4 MB/s eta 0:00:06\n",
      "   ------------------ -------------------- 177.2/377.0 MB 34.4 MB/s eta 0:00:06\n",
      "   ------------------ -------------------- 178.6/377.0 MB 36.4 MB/s eta 0:00:06\n",
      "   ------------------ -------------------- 180.3/377.0 MB 36.3 MB/s eta 0:00:06\n",
      "   ------------------ -------------------- 182.0/377.0 MB 36.3 MB/s eta 0:00:06\n",
      "   ------------------- ------------------- 183.7/377.0 MB 36.4 MB/s eta 0:00:06\n",
      "   ------------------- ------------------- 185.1/377.0 MB 36.4 MB/s eta 0:00:06\n",
      "   ------------------- ------------------- 186.6/377.0 MB 36.4 MB/s eta 0:00:06\n",
      "   ------------------- ------------------- 188.5/377.0 MB 36.4 MB/s eta 0:00:06\n",
      "   ------------------- ------------------- 190.3/377.0 MB 36.4 MB/s eta 0:00:06\n",
      "   ------------------- ------------------- 191.8/377.0 MB 36.4 MB/s eta 0:00:06\n",
      "   ------------------- ------------------- 193.3/377.0 MB 34.4 MB/s eta 0:00:06\n",
      "   -------------------- ------------------ 194.8/377.0 MB 34.4 MB/s eta 0:00:06\n",
      "   -------------------- ------------------ 196.5/377.0 MB 36.4 MB/s eta 0:00:05\n",
      "   -------------------- ------------------ 198.4/377.0 MB 36.4 MB/s eta 0:00:05\n",
      "   -------------------- ------------------ 200.0/377.0 MB 34.4 MB/s eta 0:00:06\n",
      "   -------------------- ------------------ 201.6/377.0 MB 34.4 MB/s eta 0:00:06\n",
      "   --------------------- ----------------- 203.1/377.0 MB 34.4 MB/s eta 0:00:06\n",
      "   --------------------- ----------------- 205.0/377.0 MB 36.4 MB/s eta 0:00:05\n",
      "   --------------------- ----------------- 206.5/377.0 MB 36.3 MB/s eta 0:00:05\n",
      "   --------------------- ----------------- 208.0/377.0 MB 34.4 MB/s eta 0:00:05\n",
      "   --------------------- ----------------- 209.7/377.0 MB 34.6 MB/s eta 0:00:05\n",
      "   --------------------- ----------------- 211.7/377.0 MB 36.4 MB/s eta 0:00:05\n",
      "   ---------------------- ---------------- 213.7/377.0 MB 38.6 MB/s eta 0:00:05\n",
      "   ---------------------- ---------------- 215.7/377.0 MB 38.5 MB/s eta 0:00:05\n",
      "   ---------------------- ---------------- 217.5/377.0 MB 38.5 MB/s eta 0:00:05\n",
      "   ---------------------- ---------------- 219.4/377.0 MB 43.7 MB/s eta 0:00:04\n",
      "   ---------------------- ---------------- 221.5/377.0 MB 40.9 MB/s eta 0:00:04\n",
      "   ----------------------- --------------- 223.4/377.0 MB 43.7 MB/s eta 0:00:04\n",
      "   ----------------------- --------------- 225.5/377.0 MB 43.5 MB/s eta 0:00:04\n",
      "   ----------------------- --------------- 227.6/377.0 MB 43.5 MB/s eta 0:00:04\n",
      "   ----------------------- --------------- 229.8/377.0 MB 46.7 MB/s eta 0:00:04\n",
      "   ------------------------ -------------- 232.1/377.0 MB 46.9 MB/s eta 0:00:04\n",
      "   ------------------------ -------------- 234.4/377.0 MB 50.4 MB/s eta 0:00:03\n",
      "   ------------------------ -------------- 236.9/377.0 MB 50.4 MB/s eta 0:00:03\n",
      "   ------------------------ -------------- 239.3/377.0 MB 50.4 MB/s eta 0:00:03\n",
      "   ------------------------- ------------- 241.8/377.0 MB 54.4 MB/s eta 0:00:03\n",
      "   ------------------------- ------------- 243.9/377.0 MB 50.4 MB/s eta 0:00:03\n",
      "   ------------------------- ------------- 245.5/377.0 MB 46.7 MB/s eta 0:00:03\n",
      "   ------------------------- ------------- 247.7/377.0 MB 46.7 MB/s eta 0:00:03\n",
      "   ------------------------- ------------- 249.7/377.0 MB 43.7 MB/s eta 0:00:03\n",
      "   -------------------------- ------------ 251.6/377.0 MB 43.7 MB/s eta 0:00:03\n",
      "   -------------------------- ------------ 254.2/377.0 MB 43.7 MB/s eta 0:00:03\n",
      "   -------------------------- ------------ 256.8/377.0 MB 50.4 MB/s eta 0:00:03\n",
      "   -------------------------- ------------ 258.7/377.0 MB 46.7 MB/s eta 0:00:03\n",
      "   -------------------------- ------------ 260.5/377.0 MB 46.7 MB/s eta 0:00:03\n",
      "   --------------------------- ----------- 262.6/377.0 MB 46.7 MB/s eta 0:00:03\n",
      "   --------------------------- ----------- 264.4/377.0 MB 43.5 MB/s eta 0:00:03\n",
      "   --------------------------- ----------- 266.5/377.0 MB 40.9 MB/s eta 0:00:03\n",
      "   --------------------------- ----------- 268.7/377.0 MB 43.7 MB/s eta 0:00:03\n",
      "   ---------------------------- ---------- 271.2/377.0 MB 46.7 MB/s eta 0:00:03\n",
      "   ---------------------------- ---------- 273.9/377.0 MB 50.4 MB/s eta 0:00:03\n",
      "   ---------------------------- ---------- 276.0/377.0 MB 50.4 MB/s eta 0:00:03\n",
      "   ---------------------------- ---------- 278.0/377.0 MB 50.4 MB/s eta 0:00:02\n",
      "   ---------------------------- ---------- 280.1/377.0 MB 46.7 MB/s eta 0:00:03\n",
      "   ----------------------------- --------- 282.3/377.0 MB 46.7 MB/s eta 0:00:03\n",
      "   ----------------------------- --------- 284.2/377.0 MB 43.7 MB/s eta 0:00:03\n",
      "   ----------------------------- --------- 286.7/377.0 MB 46.9 MB/s eta 0:00:02\n",
      "   ----------------------------- --------- 289.4/377.0 MB 50.4 MB/s eta 0:00:02\n",
      "   ------------------------------ -------- 292.0/377.0 MB 50.4 MB/s eta 0:00:02\n",
      "   ------------------------------ -------- 294.9/377.0 MB 54.4 MB/s eta 0:00:02\n",
      "   ------------------------------ -------- 297.6/377.0 MB 59.5 MB/s eta 0:00:02\n",
      "   ------------------------------- ------- 300.4/377.0 MB 59.5 MB/s eta 0:00:02\n",
      "   ------------------------------- ------- 303.2/377.0 MB 59.5 MB/s eta 0:00:02\n",
      "   ------------------------------- ------- 306.8/377.0 MB 65.6 MB/s eta 0:00:02\n",
      "   -------------------------------- ------ 309.3/377.0 MB 65.2 MB/s eta 0:00:02\n",
      "   -------------------------------- ------ 309.3/377.0 MB 65.2 MB/s eta 0:00:02\n",
      "   -------------------------------- ------ 312.0/377.0 MB 46.7 MB/s eta 0:00:02\n",
      "   -------------------------------- ------ 314.9/377.0 MB 46.7 MB/s eta 0:00:02\n",
      "   -------------------------------- ------ 317.9/377.0 MB 43.5 MB/s eta 0:00:02\n",
      "   --------------------------------- ----- 321.1/377.0 MB 59.5 MB/s eta 0:00:01\n",
      "   --------------------------------- ----- 324.2/377.0 MB 65.2 MB/s eta 0:00:01\n",
      "   --------------------------------- ----- 327.8/377.0 MB 65.6 MB/s eta 0:00:01\n",
      "   ---------------------------------- ---- 331.2/377.0 MB 73.1 MB/s eta 0:00:01\n",
      "   ---------------------------------- ---- 334.6/377.0 MB 73.1 MB/s eta 0:00:01\n",
      "   ---------------------------------- ---- 337.6/377.0 MB 73.1 MB/s eta 0:00:01\n",
      "   ---------------------------------- ---- 338.2/377.0 MB 54.4 MB/s eta 0:00:01\n",
      "   ----------------------------------- --- 339.7/377.0 MB 54.4 MB/s eta 0:00:01\n",
      "   ----------------------------------- --- 341.6/377.0 MB 43.5 MB/s eta 0:00:01\n",
      "   ----------------------------------- --- 345.0/377.0 MB 46.7 MB/s eta 0:00:01\n",
      "   ----------------------------------- --- 347.9/377.0 MB 54.4 MB/s eta 0:00:01\n",
      "   ------------------------------------ -- 350.9/377.0 MB 65.2 MB/s eta 0:00:01\n",
      "   ------------------------------------ -- 353.9/377.0 MB 65.2 MB/s eta 0:00:01\n",
      "   ------------------------------------ -- 356.7/377.0 MB 65.6 MB/s eta 0:00:01\n",
      "   ------------------------------------- - 359.3/377.0 MB 65.6 MB/s eta 0:00:01\n",
      "   ------------------------------------- - 361.6/377.0 MB 59.5 MB/s eta 0:00:01\n",
      "   ------------------------------------- - 363.8/377.0 MB 54.7 MB/s eta 0:00:01\n",
      "   ------------------------------------- - 366.6/377.0 MB 54.4 MB/s eta 0:00:01\n",
      "   --------------------------------------  369.2/377.0 MB 54.4 MB/s eta 0:00:01\n",
      "   --------------------------------------  371.1/377.0 MB 50.4 MB/s eta 0:00:01\n",
      "   --------------------------------------  372.2/377.0 MB 50.4 MB/s eta 0:00:01\n",
      "   --------------------------------------  372.2/377.0 MB 50.4 MB/s eta 0:00:01\n",
      "   --------------------------------------  372.2/377.0 MB 50.4 MB/s eta 0:00:01\n",
      "   --------------------------------------  373.2/377.0 MB 29.7 MB/s eta 0:00:01\n",
      "   --------------------------------------  376.3/377.0 MB 31.2 MB/s eta 0:00:01\n",
      "   --------------------------------------  377.0/377.0 MB 32.8 MB/s eta 0:00:01\n",
      "   --------------------------------------  377.0/377.0 MB 32.8 MB/s eta 0:00:01\n",
      "   --------------------------------------  377.0/377.0 MB 32.8 MB/s eta 0:00:01\n",
      "   --------------------------------------  377.0/377.0 MB 32.8 MB/s eta 0:00:01\n",
      "   --------------------------------------  377.0/377.0 MB 32.8 MB/s eta 0:00:01\n",
      "   --------------------------------------  377.0/377.0 MB 32.8 MB/s eta 0:00:01\n",
      "   --------------------------------------  377.0/377.0 MB 32.8 MB/s eta 0:00:01\n",
      "   --------------------------------------  377.0/377.0 MB 32.8 MB/s eta 0:00:01\n",
      "   --------------------------------------  377.0/377.0 MB 32.8 MB/s eta 0:00:01\n",
      "   --------------------------------------  377.0/377.0 MB 32.8 MB/s eta 0:00:01\n",
      "   --------------------------------------  377.0/377.0 MB 32.8 MB/s eta 0:00:01\n",
      "   --------------------------------------  377.0/377.0 MB 32.8 MB/s eta 0:00:01\n",
      "   --------------------------------------  377.0/377.0 MB 32.8 MB/s eta 0:00:01\n",
      "   --------------------------------------  377.0/377.0 MB 32.8 MB/s eta 0:00:01\n",
      "   --------------------------------------  377.0/377.0 MB 32.8 MB/s eta 0:00:01\n",
      "   --------------------------------------  377.0/377.0 MB 32.8 MB/s eta 0:00:01\n",
      "   --------------------------------------  377.0/377.0 MB 32.8 MB/s eta 0:00:01\n",
      "   --------------------------------------  377.0/377.0 MB 32.8 MB/s eta 0:00:01\n",
      "   --------------------------------------  377.0/377.0 MB 32.8 MB/s eta 0:00:01\n",
      "   ---------------------------------------- 377.0/377.0 MB 6.7 MB/s eta 0:00:00\n",
      "Downloading absl_py-2.1.0-py3-none-any.whl (133 kB)\n",
      "   ---------------------------------------- 0.0/133.7 kB ? eta -:--:--\n",
      "   ---------------------------------------- 133.7/133.7 kB 8.2 MB/s eta 0:00:00\n",
      "Downloading astunparse-1.6.3-py2.py3-none-any.whl (12 kB)\n",
      "Downloading flatbuffers-24.3.7-py2.py3-none-any.whl (26 kB)\n",
      "Downloading gast-0.5.4-py3-none-any.whl (19 kB)\n",
      "Downloading google_pasta-0.2.0-py3-none-any.whl (57 kB)\n",
      "   ---------------------------------------- 0.0/57.5 kB ? eta -:--:--\n",
      "   ---------------------------------------- 57.5/57.5 kB ? eta 0:00:00\n",
      "Downloading grpcio-1.62.1-cp311-cp311-win_amd64.whl (3.8 MB)\n",
      "   ---------------------------------------- 0.0/3.8 MB ? eta -:--:--\n",
      "   ----------------------------- ---------- 2.8/3.8 MB 87.7 MB/s eta 0:00:01\n",
      "   ---------------------------------------- 3.8/3.8 MB 60.0 MB/s eta 0:00:00\n",
      "Downloading h5py-3.10.0-cp311-cp311-win_amd64.whl (2.7 MB)\n",
      "   ---------------------------------------- 0.0/2.7 MB ? eta -:--:--\n",
      "   -------------------------------------- - 2.6/2.7 MB 81.0 MB/s eta 0:00:01\n",
      "   ---------------------------------------- 2.7/2.7 MB 56.7 MB/s eta 0:00:00\n",
      "Downloading keras-3.0.5-py3-none-any.whl (1.0 MB)\n",
      "   ---------------------------------------- 0.0/1.0 MB ? eta -:--:--\n",
      "   ---------------------------------------- 1.0/1.0 MB 63.9 MB/s eta 0:00:00\n",
      "Downloading libclang-18.1.1-py2.py3-none-win_amd64.whl (26.4 MB)\n",
      "   ---------------------------------------- 0.0/26.4 MB ? eta -:--:--\n",
      "   ----- ---------------------------------- 3.5/26.4 MB 113.3 MB/s eta 0:00:01\n",
      "   ---------- ----------------------------- 6.9/26.4 MB 88.5 MB/s eta 0:00:01\n",
      "   --------------- ------------------------ 10.1/26.4 MB 80.8 MB/s eta 0:00:01\n",
      "   ------------------- -------------------- 13.2/26.4 MB 72.6 MB/s eta 0:00:01\n",
      "   ------------------------ --------------- 16.3/26.4 MB 65.6 MB/s eta 0:00:01\n",
      "   --------------------------- ------------ 18.4/26.4 MB 65.6 MB/s eta 0:00:01\n",
      "   -------------------------------- ------- 21.4/26.4 MB 65.6 MB/s eta 0:00:01\n",
      "   ----------------------------------- ---- 23.3/26.4 MB 54.4 MB/s eta 0:00:01\n",
      "   ---------------------------------------  26.2/26.4 MB 59.5 MB/s eta 0:00:01\n",
      "   ---------------------------------------  26.4/26.4 MB 54.7 MB/s eta 0:00:01\n",
      "   ---------------------------------------- 26.4/26.4 MB 40.9 MB/s eta 0:00:00\n",
      "Downloading ml_dtypes-0.3.2-cp311-cp311-win_amd64.whl (127 kB)\n",
      "   ---------------------------------------- 0.0/127.7 kB ? eta -:--:--\n",
      "   ---------------------------------------- 127.7/127.7 kB ? eta 0:00:00\n",
      "Downloading protobuf-4.25.3-cp310-abi3-win_amd64.whl (413 kB)\n",
      "   ---------------------------------------- 0.0/413.4 kB ? eta -:--:--\n",
      "   --------------------------------------- 413.4/413.4 kB 26.9 MB/s eta 0:00:00\n",
      "Downloading tensorboard-2.16.2-py3-none-any.whl (5.5 MB)\n",
      "   ---------------------------------------- 0.0/5.5 MB ? eta -:--:--\n",
      "   ------------------------ --------------- 3.4/5.5 MB 72.1 MB/s eta 0:00:01\n",
      "   ---------------------------------------  5.5/5.5 MB 70.2 MB/s eta 0:00:01\n",
      "   ---------------------------------------- 5.5/5.5 MB 58.3 MB/s eta 0:00:00\n",
      "Downloading tensorflow_io_gcs_filesystem-0.31.0-cp311-cp311-win_amd64.whl (1.5 MB)\n",
      "   ---------------------------------------- 0.0/1.5 MB ? eta -:--:--\n",
      "   ---------------------------------------- 1.5/1.5 MB 98.4 MB/s eta 0:00:00\n",
      "Downloading termcolor-2.4.0-py3-none-any.whl (7.7 kB)\n",
      "Downloading tensorboard_data_server-0.7.2-py3-none-any.whl (2.4 kB)\n",
      "Downloading dm_tree-0.1.8-cp311-cp311-win_amd64.whl (101 kB)\n",
      "   ---------------------------------------- 0.0/101.3 kB ? eta -:--:--\n",
      "   ---------------------------------------- 101.3/101.3 kB ? eta 0:00:00\n",
      "Downloading namex-0.0.7-py3-none-any.whl (5.8 kB)\n",
      "Downloading rich-13.7.1-py3-none-any.whl (240 kB)\n",
      "   ---------------------------------------- 0.0/240.7 kB ? eta -:--:--\n",
      "   --------------------------------------- 240.7/240.7 kB 14.4 MB/s eta 0:00:00\n",
      "Installing collected packages: namex, libclang, flatbuffers, dm-tree, termcolor, tensorflow-io-gcs-filesystem, tensorboard-data-server, protobuf, ml-dtypes, h5py, grpcio, google-pasta, gast, astunparse, absl-py, tensorboard, rich, keras, tensorflow-intel, tensorflow\n",
      "  Attempting uninstall: h5py\n",
      "    Found existing installation: h5py 3.9.0\n",
      "    Uninstalling h5py-3.9.0:\n",
      "      Successfully uninstalled h5py-3.9.0\n",
      "Successfully installed absl-py-2.1.0 astunparse-1.6.3 dm-tree-0.1.8 flatbuffers-24.3.7 gast-0.5.4 google-pasta-0.2.0 grpcio-1.62.1 h5py-3.10.0 keras-3.0.5 libclang-18.1.1 ml-dtypes-0.3.2 namex-0.0.7 protobuf-4.25.3 rich-13.7.1 tensorboard-2.16.2 tensorboard-data-server-0.7.2 tensorflow-2.16.1 tensorflow-intel-2.16.1 tensorflow-io-gcs-filesystem-0.31.0 termcolor-2.4.0\n"
     ]
    }
   ],
   "source": [
    "!pip install tensorflow"
   ]
  },
  {
   "cell_type": "code",
   "execution_count": 3,
   "id": "bfcc7919",
   "metadata": {},
   "outputs": [
    {
     "name": "stdout",
     "output_type": "stream",
     "text": [
      "2.16.1\n"
     ]
    }
   ],
   "source": [
    "import tensorflow  as tf\n",
    "print(tf.__version__)"
   ]
  },
  {
   "cell_type": "markdown",
   "id": "f8615032",
   "metadata": {},
   "source": [
    "## 데이터 생성 및 접근"
   ]
  },
  {
   "cell_type": "code",
   "execution_count": 4,
   "id": "8d7ae378",
   "metadata": {},
   "outputs": [
    {
     "name": "stdout",
     "output_type": "stream",
     "text": [
      "tf.Tensor(\n",
      "[[1 2 3]\n",
      " [4 5 6]], shape=(2, 3), dtype=int32)\n"
     ]
    }
   ],
   "source": [
    "tf.constant(42)\n",
    "\n",
    "t = tf.constant([[1, 2, 3], [4, 5, 6]])\n",
    "print(t)"
   ]
  },
  {
   "cell_type": "code",
   "execution_count": 11,
   "id": "2bcab3b9",
   "metadata": {},
   "outputs": [
    {
     "name": "stdout",
     "output_type": "stream",
     "text": [
      "tf.Tensor([2 5], shape=(2,), dtype=int32)\n",
      "tf.Tensor(\n",
      "[[2 3]\n",
      " [5 6]], shape=(2, 2), dtype=int32)\n",
      "tf.Tensor(\n",
      "[[2]\n",
      " [5]], shape=(2, 1), dtype=int32)\n"
     ]
    }
   ],
   "source": [
    "print(t[:, 1]) # 1번째 열 : 하나의 열이라서 1차원 배열\n",
    "print(t[:, 1 :]) # 1번째 열부터 모든 열\n",
    "print(t[:, 1, tf.newaxis]) # 데이터를 분할한 후 새로운 축으로 만들어서 출력\n",
    "# 1차원 배열이 2차원 배열이 됩니다."
   ]
  },
  {
   "cell_type": "markdown",
   "id": "9b06c08d",
   "metadata": {},
   "source": [
    "## 연산"
   ]
  },
  {
   "cell_type": "code",
   "execution_count": 12,
   "id": "74aef3e7",
   "metadata": {},
   "outputs": [
    {
     "name": "stdout",
     "output_type": "stream",
     "text": [
      "tf.Tensor(\n",
      "[[11 12 13]\n",
      " [14 15 16]], shape=(2, 3), dtype=int32)\n"
     ]
    }
   ],
   "source": [
    "print(t + 10) # broadcast 연산"
   ]
  },
  {
   "cell_type": "code",
   "execution_count": 13,
   "id": "c80921dd",
   "metadata": {},
   "outputs": [
    {
     "name": "stdout",
     "output_type": "stream",
     "text": [
      "tf.Tensor(\n",
      "[[ 1  4  9]\n",
      " [16 25 36]], shape=(2, 3), dtype=int32)\n"
     ]
    }
   ],
   "source": [
    "print(tf.square(t))"
   ]
  },
  {
   "cell_type": "code",
   "execution_count": 14,
   "id": "45f13374",
   "metadata": {},
   "outputs": [
    {
     "data": {
      "text/plain": [
       "<tf.Tensor: shape=(3, 3), dtype=int32, numpy=\n",
       "array([[17, 22, 27],\n",
       "       [22, 29, 36],\n",
       "       [27, 36, 45]])>"
      ]
     },
     "execution_count": 14,
     "metadata": {},
     "output_type": "execute_result"
    }
   ],
   "source": [
    "tf.transpose(t) @ t"
   ]
  },
  {
   "cell_type": "markdown",
   "id": "dfb38cc0",
   "metadata": {},
   "source": [
    "###  tensor 와  ndarray 변환"
   ]
  },
  {
   "cell_type": "code",
   "execution_count": 16,
   "id": "c329e74c",
   "metadata": {},
   "outputs": [
    {
     "name": "stdout",
     "output_type": "stream",
     "text": [
      "tf.Tensor([2 3 4], shape=(3,), dtype=int32)\n"
     ]
    }
   ],
   "source": [
    "import numpy as np\n",
    "ar = np.array([2, 3, 4])\n",
    "print(tf.constant(ar))"
   ]
  },
  {
   "cell_type": "code",
   "execution_count": 17,
   "id": "04e36a55",
   "metadata": {},
   "outputs": [
    {
     "name": "stdout",
     "output_type": "stream",
     "text": [
      "<bound method _EagerTensorBase.numpy of <tf.Tensor: shape=(3,), dtype=int32, numpy=array([2, 3, 4])>>\n",
      "[2 3 4]\n"
     ]
    }
   ],
   "source": [
    "print(tf.constant(ar).numpy)\n",
    "print(np.array(ar))"
   ]
  },
  {
   "cell_type": "markdown",
   "id": "1906684b",
   "metadata": {},
   "source": [
    "### 타입 변환"
   ]
  },
  {
   "cell_type": "code",
   "execution_count": null,
   "id": "0f5339e2",
   "metadata": {},
   "outputs": [],
   "source": [
    "# ndarray 는 이렇게 자료형이 다른 경우 자동으로 자료형으 변경해서\n",
    "#  \n",
    "\n",
    "print(tf/constant(2.0) + tf.constant(40))"
   ]
  },
  {
   "cell_type": "code",
   "execution_count": null,
   "id": "82c09aa6",
   "metadata": {},
   "outputs": [],
   "source": [
    "t1 = tf.constant(40)\n",
    "# 형 변환 한 후 연산 수행\n",
    "print(tf.constant(2.0) + tf.cast(t1, tf.flosae32)"
   ]
  },
  {
   "cell_type": "code",
   "execution_count": 29,
   "id": "47bd433c",
   "metadata": {},
   "outputs": [
    {
     "name": "stdout",
     "output_type": "stream",
     "text": [
      "<tf.Variable 'Variable:0' shape=(2, 3) dtype=int32, numpy=\n",
      "array([[1, 2, 3],\n",
      "       [4, 5, 6]])>\n",
      "2101458531088\n",
      "tf.Tensor(\n",
      "[[ 2  4  6]\n",
      " [ 8 10 12]], shape=(2, 3), dtype=int32)\n",
      "2101458625536\n",
      "<tf.Variable 'Variable:0' shape=(2, 3) dtype=int32, numpy=\n",
      "array([[1, 2, 3],\n",
      "       [4, 5, 6]])>\n",
      "2101429254608\n",
      "<tf.Variable 'Variable:0' shape=(2, 3) dtype=int32, numpy=\n",
      "array([[ 2,  4,  6],\n",
      "       [ 8, 10, 12]])>\n",
      "2101429254608\n"
     ]
    }
   ],
   "source": [
    "# 변수 생성\n",
    "v = tf.Variable([[1, 2, 3], [4, 5, 6 ]])\n",
    "print(v)\n",
    "print(id(v))\n",
    "# 이 경우는 데이터를 수정한 것이 아니고\n",
    "# 기존 데이터를 복제해서 연산을 수행한 후 그 결과를 가리키도록 한 것\n",
    "# 참조하는 위치가 변경됨\n",
    "v = v * 2\n",
    "print(v)\n",
    "print(id(v))\n",
    "\n",
    "# 내부 데이터 수정\n",
    "v = tf.Variable([[1, 2, 3], [4, 5, 6]])\n",
    "print(v)\n",
    "print(id(v))\n",
    "# 이경우는 id 변경 없이 데이터를 수정\n",
    "v.assign(2 * v)\n",
    "print(v)\n",
    "print(id(v))"
   ]
  },
  {
   "cell_type": "markdown",
   "id": "01819f72",
   "metadata": {},
   "source": [
    "### Tensorflow 함수"
   ]
  },
  {
   "cell_type": "code",
   "execution_count": 30,
   "id": "118d149c",
   "metadata": {},
   "outputs": [
    {
     "name": "stdout",
     "output_type": "stream",
     "text": [
      "<function cube at 0x000001E948AEF740>\n",
      "<tensorflow.python.eager.polymorphic_function.polymorphic_function.Function object at 0x000001E948B03250>\n"
     ]
    }
   ],
   "source": [
    "def cube (x) :\n",
    "    return x ** 3\n",
    "print(cube)\n",
    "\n",
    "tf.cube = tf.function(cube)\n",
    "print(tf.cube)"
   ]
  },
  {
   "cell_type": "code",
   "execution_count": 31,
   "id": "da52069c",
   "metadata": {},
   "outputs": [
    {
     "name": "stdout",
     "output_type": "stream",
     "text": [
      "<tensorflow.python.eager.polymorphic_function.polymorphic_function.Function object at 0x000001E946A23C90>\n",
      "<tensorflow.python.eager.polymorphic_function.polymorphic_function.Function object at 0x000001E948B63550>\n"
     ]
    }
   ],
   "source": [
    "@tf. function # decorator 를 이용한 텐서플ㄹ로우 함수 생성\n",
    "def cube (x) :\n",
    "    return x ** 3\n",
    "print(cube)\n",
    "\n",
    "tf.cube = tf.function(cube)\n",
    "print(tf.cube)"
   ]
  },
  {
   "cell_type": "markdown",
   "id": "6fecc18f",
   "metadata": {},
   "source": [
    "## 뉴런을 직접 생성"
   ]
  },
  {
   "cell_type": "code",
   "execution_count": 33,
   "id": "5f40f5e8",
   "metadata": {},
   "outputs": [
    {
     "name": "stdout",
     "output_type": "stream",
     "text": [
      "0.36894579369022124\n"
     ]
    }
   ],
   "source": [
    "# 시그모이드\n",
    "import math\n",
    "def sigmoid(x) :\n",
    "    return 1 / (1 + math.exp(-x))\n",
    "\n",
    "# 입력\n",
    "x = 1\n",
    "\n",
    "# 출력 \n",
    "y = 0\n",
    "\n",
    "# 한 번 학습\n",
    "w = tf.random.normal([1], 0, 1)\n",
    "output = sigmoid(x * w)\n",
    "print(output)"
   ]
  },
  {
   "cell_type": "code",
   "execution_count": 36,
   "id": "7b825d5e",
   "metadata": {},
   "outputs": [
    {
     "name": "stdout",
     "output_type": "stream",
     "text": [
      "0 -0.0009938039908116898 0.0009938039908116898\n",
      "10000 -0.0004986076413431857 0.0004986076413431857\n",
      "20000 -0.00033275999998548354 0.00033275999998548354\n",
      "30000 -0.0002497039473000715 0.0002497039473000715\n",
      "40000 -0.00019983714110252492 0.00019983714110252492\n",
      "50000 -0.00016651728589958426 0.00016651728589958426\n",
      "60000 -0.00014280855781084072 0.00014280855781084072\n",
      "70000 -0.0001249788821151294 0.0001249788821151294\n",
      "80000 -0.0001110612022668561 0.0001110612022668561\n",
      "90000 -9.9918597794114e-05 9.9918597794114e-05\n"
     ]
    }
   ],
   "source": [
    "# 학습률을  0.01 로 설정해서 경사하강법을 수행\n",
    "\n",
    "# 학습 회수 - epoch\n",
    "for i in range(100000) :\n",
    "    # 출력을 생성\n",
    "    output = sigmoid(x*w)\n",
    "    # 출력 오차를 계산\n",
    "    error = y - output\n",
    "    \n",
    "    # 가중치 업데이트\n",
    "    w = w + x * 0.1 * error\n",
    "    \n",
    "    # 횟수와 오차 그리고 출력값을 확인\n",
    "    if i % 10000 == 0:\n",
    "        print(i, error, output)"
   ]
  },
  {
   "cell_type": "code",
   "execution_count": 38,
   "id": "5aca1a17",
   "metadata": {},
   "outputs": [
    {
     "name": "stdout",
     "output_type": "stream",
     "text": [
      "0 0.5 0.5\n",
      "100 0.5 0.5\n",
      "200 0.5 0.5\n",
      "300 0.5 0.5\n",
      "400 0.5 0.5\n",
      "500 0.5 0.5\n",
      "600 0.5 0.5\n",
      "700 0.5 0.5\n",
      "800 0.5 0.5\n",
      "900 0.5 0.5\n"
     ]
    }
   ],
   "source": [
    "# 입력\n",
    "x = 0\n",
    "\n",
    "# 출력\n",
    "y = 1\n",
    "\n",
    "# 가중치\n",
    "w = tf.random.normal([1], 0, 1)\n",
    "# 편향 생성\n",
    "b = tf.random.normal([1], 0, 1)\n",
    "\n",
    "# 학습률을  0.01 로 설정해서 경사하강법을 수행\n",
    "\n",
    "# 학습 회수 - epoch\n",
    "for i in range(1000) :\n",
    "    # 출력을 생성\n",
    "    output = sigmoid(x*w)\n",
    "    # 출력 오차를 계산\n",
    "    error = y - output\n",
    "    \n",
    "    # 가중치 업데이트\n",
    "    w = w + x * 0.1 * error\n",
    "    \n",
    "    # 횟수와 오차 그리고 출력값을 확인\n",
    "    if i % 100 == 0:\n",
    "        print(i, error, output)"
   ]
  },
  {
   "cell_type": "markdown",
   "id": "02c281d0",
   "metadata": {},
   "source": [
    "## 기울기 소실을 막기 위해 편향 추가"
   ]
  },
  {
   "cell_type": "code",
   "execution_count": 37,
   "id": "837d7182",
   "metadata": {},
   "outputs": [
    {
     "name": "stdout",
     "output_type": "stream",
     "text": [
      "0 0.8965136528568959 0.10348634714310408\n",
      "100 0.138466668269424 0.861533331730576\n",
      "200 0.06112730932988841 0.9388726906701116\n",
      "300 0.038611250073897097 0.9613887499261029\n",
      "400 0.028100536249925256 0.9718994637500747\n",
      "500 0.02205070895054806 0.9779492910494519\n",
      "600 0.018129091498460426 0.9818709085015396\n",
      "700 0.015384326290363126 0.9846156737096369\n",
      "800 0.013357378740702086 0.9866426212592979\n",
      "900 0.011800002079861094 0.9881999979201389\n"
     ]
    }
   ],
   "source": [
    "# 입력\n",
    "x = 0\n",
    "\n",
    "# 출력\n",
    "y = 1\n",
    "\n",
    "# 가중치\n",
    "w = tf.random.normal([1], 0, 1)\n",
    "# 편향 생성\n",
    "b = tf.random.normal([1], 0, 1)\n",
    "\n",
    "\n",
    "# 학습률을  0.01 로 설정해서 경사하강법을 수행\n",
    "\n",
    "# 학습 회수 - epoch\n",
    "for i in range(1000) :\n",
    "    # 출력을 생성\n",
    "    output = sigmoid(x*w + 1 *b)\n",
    "    # 출력 오차를 계산\n",
    "    error = y - output\n",
    "    \n",
    "    # 가중치 업데이트\n",
    "    w = w + x * 0.1 * error\n",
    "    # 편향 업데이트\n",
    "    b = b + 1 * 0.1 * error\n",
    "    \n",
    "    # 횟수와 오차 그리고 출력값을 확인\n",
    "    if i % 100 == 0:\n",
    "        print(i, error, output)"
   ]
  },
  {
   "cell_type": "markdown",
   "id": "2d4418a2",
   "metadata": {},
   "source": [
    "## AND 연산 구현"
   ]
  },
  {
   "cell_type": "code",
   "execution_count": 42,
   "id": "1ee648f2",
   "metadata": {},
   "outputs": [
    {
     "name": "stdout",
     "output_type": "stream",
     "text": [
      "0번째 : -1.8083692187041893\n",
      "500번째 : -0.05493090903540032\n",
      "1000번째 : -0.02945548397268294\n",
      "1500번째 : -0.020001727182268114\n",
      "2000번째 : -0.015104003570034746\n",
      "2500번째 : -0.012121171339144796\n",
      "3000번째 : -0.010113141290788552\n",
      "3500번째 : -0.008674615784162482\n",
      "4000번째 : -0.0075926647176273385\n",
      "4500번째 : -0.0067489868782883156\n",
      "5000번째 : -0.0060731991866418596\n",
      "5500번째 : -0.0055196329334024595\n",
      "6000번째 : -0.005058541975741442\n",
      "6500번째 : -0.004668205586768077\n",
      "7000번째 : -0.004333426277246984\n",
      "7500번째 : -0.0040435144550475186\n",
      "8000번째 : -0.003789853965702245\n",
      "8500번째 : -0.0035660393308939425\n",
      "9000번째 : -0.0033670059053252446\n",
      "9500번째 : -0.0031891707948678016\n"
     ]
    }
   ],
   "source": [
    "X = np.array([[0,0],[1,0],[0,1],[1,1]])\n",
    "y = np.array([[0], [0], [0], [1]])\n",
    "\n",
    "# 가중치 초기화\n",
    "w = tf.random.normal([2], 0, 1) # 입력 피처가 두개이므로 가중치도 2개\n",
    "b = tf.random.normal([1], 0, 1) # 편향\n",
    "\n",
    "# 학습\n",
    "for  i in range(10000) :\n",
    "    # 샘플이 여러개 이므로 에러는 모든 샘플의 에러 합계로 계산\n",
    "    # 에러 합계를 저장할 변수\n",
    "    error_sum = 0\n",
    "    # 4는 입력데이터의 개수\n",
    "    for j in range(4) :\n",
    "        # 출력\n",
    "        output = sigmoid(np.sum(X[j] * w) + 1 * b)\n",
    "        # 오차\n",
    "        error = y[j][0] - output\n",
    "        #가중치 업데이트 - 학습률은 0.1\n",
    "        w = w + X[j] * 0.1 * error\n",
    "        # 편향 업데이트\n",
    "        b = b + 1 * 0.1 * error\n",
    "        # 에러 값을 추가\n",
    "        error_sum += error\n",
    "        \n",
    "    if i % 500 == 0 :\n",
    "        print(\"{0}번째 : {1}\".format(i, error_sum))\n",
    "        "
   ]
  },
  {
   "cell_type": "code",
   "execution_count": 43,
   "id": "aff16ff5",
   "metadata": {},
   "outputs": [
    {
     "name": "stdout",
     "output_type": "stream",
     "text": [
      "X :  [0 0] y : [0] 1.82917095206161e-07\n",
      "X :  [1 0] y : [0] 0.00504750425528397\n",
      "X :  [0 1] y : [0] 0.005050685399297795\n",
      "X :  [1 1] y : [1] 0.9929472765312585\n"
     ]
    }
   ],
   "source": [
    "# 예측한 값 확인\n",
    "for i in range(4) :\n",
    "    print('X : ', X[i], 'y :', y[i], sigmoid(np.sum(X[i] * w) + b))"
   ]
  },
  {
   "cell_type": "markdown",
   "id": "516df046",
   "metadata": {},
   "source": [
    "## XOR 문제"
   ]
  },
  {
   "cell_type": "code",
   "execution_count": 44,
   "id": "3937b01c",
   "metadata": {},
   "outputs": [
    {
     "name": "stdout",
     "output_type": "stream",
     "text": [
      "0번째 : 1.6925100789796375\n",
      "500번째 : -9.631906816687241e-06\n",
      "1000번째 : -6.980329025907395e-08\n",
      "1500번째 : -6.980329025907395e-08\n",
      "2000번째 : -6.980329025907395e-08\n",
      "2500번째 : -6.980329025907395e-08\n",
      "3000번째 : -6.980329025907395e-08\n",
      "3500번째 : -6.980329025907395e-08\n",
      "4000번째 : -6.980329025907395e-08\n",
      "4500번째 : -6.980329025907395e-08\n",
      "5000번째 : -6.980329025907395e-08\n",
      "5500번째 : -6.980329025907395e-08\n",
      "6000번째 : -6.980329025907395e-08\n",
      "6500번째 : -6.980329025907395e-08\n",
      "7000번째 : -6.980329025907395e-08\n",
      "7500번째 : -6.980329025907395e-08\n",
      "8000번째 : -6.980329025907395e-08\n",
      "8500번째 : -6.980329025907395e-08\n",
      "9000번째 : -6.980329025907395e-08\n",
      "9500번째 : -6.980329025907395e-08\n"
     ]
    }
   ],
   "source": [
    "X = np.array([[0,0],[1,0],[0,1],[1,1]])\n",
    "y = np.array([[0], [1], [1], [0]])\n",
    "\n",
    "# 가중치 초기화\n",
    "w = tf.random.normal([2], 0, 1) # 입력 피처가 두개이므로 가중치도 2개\n",
    "b = tf.random.normal([1], 0, 1) # 편향\n",
    "\n",
    "# 학습\n",
    "for  i in range(10000) :\n",
    "    # 샘플이 여러개 이므로 에러는 모든 샘플의 에러 합계로 계산\n",
    "    # 에러 합계를 저장할 변수\n",
    "    error_sum = 0\n",
    "    # 4는 입력데이터의 개수\n",
    "    for j in range(4) :\n",
    "        # 출력\n",
    "        output = sigmoid(np.sum(X[j] * w) + 1 * b)\n",
    "        # 오차\n",
    "        error = y[j][0] - output\n",
    "        #가중치 업데이트 - 학습률은 0.1\n",
    "        w = w + X[j] * 0.1 * error\n",
    "        # 편향 업데이트\n",
    "        b = b + 1 * 0.1 * error\n",
    "        # 에러 값을 추가\n",
    "        error_sum += error\n",
    "        \n",
    "    if i % 500 == 0 :\n",
    "        print(\"{0}번째 : {1}\".format(i, error_sum))\n",
    "        "
   ]
  },
  {
   "cell_type": "code",
   "execution_count": 45,
   "id": "66efbabc",
   "metadata": {},
   "outputs": [
    {
     "name": "stdout",
     "output_type": "stream",
     "text": [
      "X :  [0 0] y : [0] 0.5128177040587629\n",
      "X :  [1 0] y : [1] 0.5000000363215804\n",
      "X :  [0 1] y : [1] 0.48718236853665897\n",
      "X :  [1 1] y : [0] 0.4743815336379531\n"
     ]
    }
   ],
   "source": [
    "# 예측한 값 확인\n",
    "for i in range(4) :\n",
    "    print('X : ', X[i], 'y :', y[i], sigmoid(np.sum(X[i] * w) + b))"
   ]
  },
  {
   "cell_type": "code",
   "execution_count": 46,
   "id": "e705db1c",
   "metadata": {},
   "outputs": [
    {
     "name": "stdout",
     "output_type": "stream",
     "text": [
      "가중치 : tf.Tensor([-0.05128191 -0.10256381], shape=(2,), dtype=float32)\n",
      "편향 : tf.Tensor([0.05128205], shape=(1,), dtype=float32)\n"
     ]
    }
   ],
   "source": [
    "# 가중치와 편향을 출력\n",
    "print('가중치 :', w)\n",
    "print('편향 :', b)\n",
    "\n",
    "# "
   ]
  },
  {
   "cell_type": "code",
   "execution_count": null,
   "id": "0ab82174",
   "metadata": {},
   "outputs": [],
   "source": []
  },
  {
   "cell_type": "code",
   "execution_count": null,
   "id": "2e2062d3",
   "metadata": {},
   "outputs": [],
   "source": []
  },
  {
   "cell_type": "code",
   "execution_count": null,
   "id": "ec0882cd",
   "metadata": {},
   "outputs": [],
   "source": []
  },
  {
   "cell_type": "code",
   "execution_count": null,
   "id": "723ef050",
   "metadata": {},
   "outputs": [],
   "source": []
  },
  {
   "cell_type": "code",
   "execution_count": null,
   "id": "e57e9a27",
   "metadata": {},
   "outputs": [],
   "source": []
  },
  {
   "cell_type": "code",
   "execution_count": null,
   "id": "d53acd1d",
   "metadata": {},
   "outputs": [],
   "source": []
  }
 ],
 "metadata": {
  "kernelspec": {
   "display_name": "Python 3 (ipykernel)",
   "language": "python",
   "name": "python3"
  },
  "language_info": {
   "codemirror_mode": {
    "name": "ipython",
    "version": 3
   },
   "file_extension": ".py",
   "mimetype": "text/x-python",
   "name": "python",
   "nbconvert_exporter": "python",
   "pygments_lexer": "ipython3",
   "version": "3.11.5"
  }
 },
 "nbformat": 4,
 "nbformat_minor": 5
}
