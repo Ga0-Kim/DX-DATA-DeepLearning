{
 "cells": [
  {
   "cell_type": "code",
   "execution_count": 1,
   "id": "050ef9b1",
   "metadata": {},
   "outputs": [],
   "source": [
    "# 파이썬≥3.5 필수\n",
    "import sys\n",
    "assert sys.version_info >= (3, 5)\n",
    "\n",
    "# 공통 모듈 임포트\n",
    "import numpy as np\n",
    "import pandas as pd\n",
    "import os\n",
    "import keras\n",
    "\n",
    "# 깔끔한 그래프 출력을 위해 \n",
    "%matplotlib inline\n",
    "import matplotlib as mpl\n",
    "import matplotlib.pyplot as plt\n",
    "mpl.rc('axes', labelsize=14)\n",
    "mpl.rc('xtick', labelsize=12)\n",
    "mpl.rc('ytick', labelsize=12)\n",
    "\n",
    "mpl.rcParams['axes.unicode_minus'] = False\n",
    "\n",
    "# Jupyter Notebook의 출력을 소수점 이하 3자리로 제한\n",
    "%precision 3\n",
    "\n",
    "import seaborn as sns\n",
    "\n",
    "import scipy as sp\n",
    "from scipy import stats\n",
    "\n",
    "# 사이킷런 ≥0.20 필수\n",
    "import sklearn\n",
    "assert sklearn.__version__ >= \"0.20\"\n",
    "\n",
    "# 노트북 실행 결과를 동일하게 유지하기 위해\n",
    "# np.random.seed(42)"
   ]
  },
  {
   "cell_type": "markdown",
   "id": "996c5ea9",
   "metadata": {},
   "source": [
    "# LSTM 을 이용한 시계열 예측"
   ]
  },
  {
   "cell_type": "markdown",
   "id": "18205318",
   "metadata": {},
   "source": [
    "## 데이터 읽어오기"
   ]
  },
  {
   "cell_type": "code",
   "execution_count": 2,
   "id": "b5eea4de",
   "metadata": {},
   "outputs": [
    {
     "name": "stdout",
     "output_type": "stream",
     "text": [
      "<class 'pandas.core.frame.DataFrame'>\n",
      "RangeIndex: 5391 entries, 0 to 5390\n",
      "Data columns (total 7 columns):\n",
      " #   Column     Non-Null Count  Dtype  \n",
      "---  ------     --------------  -----  \n",
      " 0   Date       5391 non-null   object \n",
      " 1   Open       5385 non-null   float64\n",
      " 2   High       5385 non-null   float64\n",
      " 3   Low        5385 non-null   float64\n",
      " 4   Close      5385 non-null   float64\n",
      " 5   Adj Close  5385 non-null   float64\n",
      " 6   Volume     5385 non-null   float64\n",
      "dtypes: float64(6), object(1)\n",
      "memory usage: 294.9+ KB\n"
     ]
    }
   ],
   "source": [
    "data = pd.read_csv('data_ML/kakao.csv')\n",
    "data.info()"
   ]
  },
  {
   "cell_type": "markdown",
   "id": "1dacc537",
   "metadata": {},
   "source": [
    "## 데이터 전처리"
   ]
  },
  {
   "cell_type": "code",
   "execution_count": 3,
   "id": "c192562b",
   "metadata": {},
   "outputs": [
    {
     "name": "stdout",
     "output_type": "stream",
     "text": [
      "<class 'pandas.core.frame.DataFrame'>\n",
      "Index: 5385 entries, 0 to 5390\n",
      "Data columns (total 7 columns):\n",
      " #   Column     Non-Null Count  Dtype  \n",
      "---  ------     --------------  -----  \n",
      " 0   Date       5385 non-null   object \n",
      " 1   Open       5385 non-null   float64\n",
      " 2   High       5385 non-null   float64\n",
      " 3   Low        5385 non-null   float64\n",
      " 4   Close      5385 non-null   float64\n",
      " 5   Adj Close  5385 non-null   float64\n",
      " 6   Volume     5385 non-null   float64\n",
      "dtypes: float64(6), object(1)\n",
      "memory usage: 336.6+ KB\n"
     ]
    }
   ],
   "source": [
    "# 결측치 제거\n",
    "data = data.dropna(axis = 0)\n",
    "data.info()"
   ]
  },
  {
   "cell_type": "code",
   "execution_count": 4,
   "id": "752f68d3",
   "metadata": {},
   "outputs": [],
   "source": [
    "# 피처를 파생 - High 와 Low 의 평균\n",
    "high_price = data['High'].values\n",
    "low_price = data['Low'].values\n",
    "mid_price = (high_price + low_price) / 2"
   ]
  },
  {
   "cell_type": "markdown",
   "id": "96c259ef",
   "metadata": {},
   "source": [
    "## timestep 을 50으로 설정해서 데이터를 생성"
   ]
  },
  {
   "cell_type": "code",
   "execution_count": 5,
   "id": "05642796",
   "metadata": {},
   "outputs": [
    {
     "name": "stdout",
     "output_type": "stream",
     "text": [
      "전체 데이터 Length: 5385\n",
      "나눈 데이터 Length: 5334\n",
      "[54600. 53850. 47650. 44350. 50250. 48150. 42950. 41300. 36550. 39150.\n",
      " 41950. 38850. 37350. 36800. 36800. 32300. 30950. 29400. 31400. 33400.\n",
      " 36500. 33600. 29600. 28800. 29700. 27450. 23900. 21800. 23600. 22900.\n",
      " 22100. 22450. 23350. 21600. 20600. 22400. 19920. 17910. 17560. 18380.\n",
      " 19190. 21750. 21650. 19400. 19400. 17740. 15040. 14910. 14100. 12830.\n",
      " 13170.]\n",
      "[53850. 47650. 44350. 50250. 48150. 42950. 41300. 36550. 39150. 41950.\n",
      " 38850. 37350. 36800. 36800. 32300. 30950. 29400. 31400. 33400. 36500.\n",
      " 33600. 29600. 28800. 29700. 27450. 23900. 21800. 23600. 22900. 22100.\n",
      " 22450. 23350. 21600. 20600. 22400. 19920. 17910. 17560. 18380. 19190.\n",
      " 21750. 21650. 19400. 19400. 17740. 15040. 14910. 14100. 12830. 13170.\n",
      " 13380.]\n"
     ]
    }
   ],
   "source": [
    "day_divided = 50\n",
    "day_length = day_divided + 1\n",
    "day_result = []\n",
    "\n",
    "for i in range(len(mid_price) - day_length) :\n",
    "    day_result.append(mid_price[i : i + day_length])\n",
    "print('전체 데이터 Length:' , len(data))\n",
    "print('나눈 데이터 Length:' , len(day_result))\n",
    "print(day_result[0])\n",
    "print(day_result[1])"
   ]
  },
  {
   "cell_type": "code",
   "execution_count": 6,
   "id": "37d914a6",
   "metadata": {},
   "outputs": [
    {
     "name": "stdout",
     "output_type": "stream",
     "text": [
      "[ 0.    -0.014 -0.127 -0.188 -0.08  -0.118 -0.213 -0.244 -0.331 -0.283\n",
      " -0.232 -0.288 -0.316 -0.326 -0.326 -0.408 -0.433 -0.462 -0.425 -0.388\n",
      " -0.332 -0.385 -0.458 -0.473 -0.456 -0.497 -0.562 -0.601 -0.568 -0.581\n",
      " -0.595 -0.589 -0.572 -0.604 -0.623 -0.59  -0.635 -0.672 -0.678 -0.663\n",
      " -0.649 -0.602 -0.603 -0.645 -0.645 -0.675 -0.725 -0.727 -0.742 -0.765\n",
      " -0.759]\n"
     ]
    }
   ],
   "source": [
    "# 정규화 수행, 배열로 변환\n",
    "norm_result = []\n",
    "\n",
    "# 첫 번째 데이터를 기준으로 정규화를 수행\n",
    "# 첫 번째 데이터를 0으로 해서 나머지 데이터의 비율을 생성\n",
    "for section in day_result :\n",
    "    norm_section = [((float(p)) / (float(section[0]))-1) for p in section]\n",
    "    norm_result.append(norm_section)\n",
    "day_result = np.array(norm_result)\n",
    "\n",
    "print(day_result[0])\n"
   ]
  },
  {
   "cell_type": "code",
   "execution_count": 7,
   "id": "503de024",
   "metadata": {},
   "outputs": [
    {
     "name": "stdout",
     "output_type": "stream",
     "text": [
      "(4801, 51)\n",
      "(533, 51)\n",
      "(4801, 50, 1)\n",
      "(4801,)\n",
      "(533, 50, 1)\n",
      "(533,)\n"
     ]
    }
   ],
   "source": [
    "# 훈련 데이터와 테스트 데이터 분할\n",
    "\n",
    "# 훈련 데이터 비율 설정\n",
    "train_data_rate = 0.9\n",
    "\n",
    "# 경계값 인덱스 구하기\n",
    "boundary = round(day_result.shape[0] * train_data_rate)\n",
    "\n",
    "# 경계값 인덱스를 기준으로 훈련, 검증 데이터 분할\n",
    "train_data = day_result[:boundary, :]\n",
    "test_data = day_result[boundary:, :]\n",
    "\n",
    "print(train_data.shape)\n",
    "print(test_data.shape)\n",
    "\n",
    "# 훈련데이터 타겟 설정\n",
    "X_train = train_data[:, : -1]\n",
    "\n",
    "# 딥러닝에서는 데이터의 차원이 3차원이나 4차원으로 만들어져야 합니다.\n",
    "# CNN 에서는 4차원 데이터(샘플 개수, 높이, 너비, 채널)\n",
    "# RNN 에서는 3차원 데이터(샘플 개수, 높이, 너비)\n",
    "X_train = np.reshape(X_train, (X_train.shape[0], X_train.shape[1], 1))\n",
    "\n",
    "y_train = train_data[:,  -1]\n",
    "print(X_train.shape)\n",
    "print(y_train.shape)\n",
    "\n",
    "# 검증 데이터 타겟 설정\n",
    "X_test = test_data[:, : -1]\n",
    "\n",
    "X_test = np.reshape(X_test, (X_test.shape[0], X_test.shape[1], 1))\n",
    "\n",
    "y_test = test_data[:, -1]\n",
    "print(X_test.shape)\n",
    "print(y_test.shape)"
   ]
  },
  {
   "cell_type": "markdown",
   "id": "762f38a9",
   "metadata": {},
   "source": [
    "# 모델 생성 및 훈련"
   ]
  },
  {
   "cell_type": "code",
   "execution_count": 11,
   "id": "936a00cc",
   "metadata": {},
   "outputs": [
    {
     "data": {
      "text/html": [
       "<pre style=\"white-space:pre;overflow-x:auto;line-height:normal;font-family:Menlo,'DejaVu Sans Mono',consolas,'Courier New',monospace\"><span style=\"font-weight: bold\">Model: \"sequential_1\"</span>\n",
       "</pre>\n"
      ],
      "text/plain": [
       "\u001b[1mModel: \"sequential_1\"\u001b[0m\n"
      ]
     },
     "metadata": {},
     "output_type": "display_data"
    },
    {
     "data": {
      "text/html": [
       "<pre style=\"white-space:pre;overflow-x:auto;line-height:normal;font-family:Menlo,'DejaVu Sans Mono',consolas,'Courier New',monospace\">┏━━━━━━━━━━━━━━━━━━━━━━━━━━━━━━━━━┳━━━━━━━━━━━━━━━━━━━━━━━━┳━━━━━━━━━━━━━━━┓\n",
       "┃<span style=\"font-weight: bold\"> Layer (type)                    </span>┃<span style=\"font-weight: bold\"> Output Shape           </span>┃<span style=\"font-weight: bold\">       Param # </span>┃\n",
       "┡━━━━━━━━━━━━━━━━━━━━━━━━━━━━━━━━━╇━━━━━━━━━━━━━━━━━━━━━━━━╇━━━━━━━━━━━━━━━┩\n",
       "│ lstm_3 (<span style=\"color: #0087ff; text-decoration-color: #0087ff\">LSTM</span>)                   │ (<span style=\"color: #00d7ff; text-decoration-color: #00d7ff\">None</span>, <span style=\"color: #00af00; text-decoration-color: #00af00\">50</span>, <span style=\"color: #00af00; text-decoration-color: #00af00\">50</span>)         │        <span style=\"color: #00af00; text-decoration-color: #00af00\">10,400</span> │\n",
       "├─────────────────────────────────┼────────────────────────┼───────────────┤\n",
       "│ lstm_4 (<span style=\"color: #0087ff; text-decoration-color: #0087ff\">LSTM</span>)                   │ (<span style=\"color: #00d7ff; text-decoration-color: #00d7ff\">None</span>, <span style=\"color: #00af00; text-decoration-color: #00af00\">50</span>, <span style=\"color: #00af00; text-decoration-color: #00af00\">64</span>)         │        <span style=\"color: #00af00; text-decoration-color: #00af00\">29,440</span> │\n",
       "├─────────────────────────────────┼────────────────────────┼───────────────┤\n",
       "│ dense_1 (<span style=\"color: #0087ff; text-decoration-color: #0087ff\">Dense</span>)                 │ (<span style=\"color: #00d7ff; text-decoration-color: #00d7ff\">None</span>, <span style=\"color: #00af00; text-decoration-color: #00af00\">50</span>, <span style=\"color: #00af00; text-decoration-color: #00af00\">1</span>)          │            <span style=\"color: #00af00; text-decoration-color: #00af00\">65</span> │\n",
       "└─────────────────────────────────┴────────────────────────┴───────────────┘\n",
       "</pre>\n"
      ],
      "text/plain": [
       "┏━━━━━━━━━━━━━━━━━━━━━━━━━━━━━━━━━┳━━━━━━━━━━━━━━━━━━━━━━━━┳━━━━━━━━━━━━━━━┓\n",
       "┃\u001b[1m \u001b[0m\u001b[1mLayer (type)                   \u001b[0m\u001b[1m \u001b[0m┃\u001b[1m \u001b[0m\u001b[1mOutput Shape          \u001b[0m\u001b[1m \u001b[0m┃\u001b[1m \u001b[0m\u001b[1m      Param #\u001b[0m\u001b[1m \u001b[0m┃\n",
       "┡━━━━━━━━━━━━━━━━━━━━━━━━━━━━━━━━━╇━━━━━━━━━━━━━━━━━━━━━━━━╇━━━━━━━━━━━━━━━┩\n",
       "│ lstm_3 (\u001b[38;5;33mLSTM\u001b[0m)                   │ (\u001b[38;5;45mNone\u001b[0m, \u001b[38;5;34m50\u001b[0m, \u001b[38;5;34m50\u001b[0m)         │        \u001b[38;5;34m10,400\u001b[0m │\n",
       "├─────────────────────────────────┼────────────────────────┼───────────────┤\n",
       "│ lstm_4 (\u001b[38;5;33mLSTM\u001b[0m)                   │ (\u001b[38;5;45mNone\u001b[0m, \u001b[38;5;34m50\u001b[0m, \u001b[38;5;34m64\u001b[0m)         │        \u001b[38;5;34m29,440\u001b[0m │\n",
       "├─────────────────────────────────┼────────────────────────┼───────────────┤\n",
       "│ dense_1 (\u001b[38;5;33mDense\u001b[0m)                 │ (\u001b[38;5;45mNone\u001b[0m, \u001b[38;5;34m50\u001b[0m, \u001b[38;5;34m1\u001b[0m)          │            \u001b[38;5;34m65\u001b[0m │\n",
       "└─────────────────────────────────┴────────────────────────┴───────────────┘\n"
      ]
     },
     "metadata": {},
     "output_type": "display_data"
    },
    {
     "data": {
      "text/html": [
       "<pre style=\"white-space:pre;overflow-x:auto;line-height:normal;font-family:Menlo,'DejaVu Sans Mono',consolas,'Courier New',monospace\"><span style=\"font-weight: bold\"> Total params: </span><span style=\"color: #00af00; text-decoration-color: #00af00\">39,905</span> (155.88 KB)\n",
       "</pre>\n"
      ],
      "text/plain": [
       "\u001b[1m Total params: \u001b[0m\u001b[38;5;34m39,905\u001b[0m (155.88 KB)\n"
      ]
     },
     "metadata": {},
     "output_type": "display_data"
    },
    {
     "data": {
      "text/html": [
       "<pre style=\"white-space:pre;overflow-x:auto;line-height:normal;font-family:Menlo,'DejaVu Sans Mono',consolas,'Courier New',monospace\"><span style=\"font-weight: bold\"> Trainable params: </span><span style=\"color: #00af00; text-decoration-color: #00af00\">39,905</span> (155.88 KB)\n",
       "</pre>\n"
      ],
      "text/plain": [
       "\u001b[1m Trainable params: \u001b[0m\u001b[38;5;34m39,905\u001b[0m (155.88 KB)\n"
      ]
     },
     "metadata": {},
     "output_type": "display_data"
    },
    {
     "data": {
      "text/html": [
       "<pre style=\"white-space:pre;overflow-x:auto;line-height:normal;font-family:Menlo,'DejaVu Sans Mono',consolas,'Courier New',monospace\"><span style=\"font-weight: bold\"> Non-trainable params: </span><span style=\"color: #00af00; text-decoration-color: #00af00\">0</span> (0.00 B)\n",
       "</pre>\n"
      ],
      "text/plain": [
       "\u001b[1m Non-trainable params: \u001b[0m\u001b[38;5;34m0\u001b[0m (0.00 B)\n"
      ]
     },
     "metadata": {},
     "output_type": "display_data"
    }
   ],
   "source": [
    "import keras\n",
    "\n",
    "model = keras.models.Sequential()\n",
    "\n",
    "# RNN 층 이전 층은 출력을 전달을 해줘야 합니다.\n",
    "#return_sequences 를 True로 설정하면 됩니다.\n",
    "model.add(keras.layers.LSTM(50, return_sequences = True, input_shape = (50, 1)))\n",
    "# model.add(keras.layers.LSTM(64, return_sequences = True))\n",
    "model.add(keras.layers.LSTM(64, return_sequences = True))\n",
    "model.add(keras.layers.Dense(1, activation = 'relu'))\n",
    "\n",
    "model.summary()"
   ]
  },
  {
   "cell_type": "markdown",
   "id": "43cfe0ed",
   "metadata": {},
   "source": [
    "# 모델 컴파일 하기"
   ]
  },
  {
   "cell_type": "code",
   "execution_count": 12,
   "id": "823fe1b0",
   "metadata": {},
   "outputs": [
    {
     "name": "stdout",
     "output_type": "stream",
     "text": [
      "Epoch 1/15\n",
      "\u001b[1m481/481\u001b[0m \u001b[32m━━━━━━━━━━━━━━━━━━━━\u001b[0m\u001b[37m\u001b[0m \u001b[1m16s\u001b[0m 13ms/step - loss: 0.0567 - val_loss: 0.0829\n",
      "Epoch 2/15\n",
      "\u001b[1m481/481\u001b[0m \u001b[32m━━━━━━━━━━━━━━━━━━━━\u001b[0m\u001b[37m\u001b[0m \u001b[1m6s\u001b[0m 12ms/step - loss: 0.0519 - val_loss: 0.0829\n",
      "Epoch 3/15\n",
      "\u001b[1m481/481\u001b[0m \u001b[32m━━━━━━━━━━━━━━━━━━━━\u001b[0m\u001b[37m\u001b[0m \u001b[1m6s\u001b[0m 12ms/step - loss: 0.0541 - val_loss: 0.0829\n",
      "Epoch 4/15\n",
      "\u001b[1m481/481\u001b[0m \u001b[32m━━━━━━━━━━━━━━━━━━━━\u001b[0m\u001b[37m\u001b[0m \u001b[1m6s\u001b[0m 13ms/step - loss: 0.0523 - val_loss: 0.0829\n",
      "Epoch 5/15\n",
      "\u001b[1m481/481\u001b[0m \u001b[32m━━━━━━━━━━━━━━━━━━━━\u001b[0m\u001b[37m\u001b[0m \u001b[1m7s\u001b[0m 14ms/step - loss: 0.0522 - val_loss: 0.0829\n",
      "Epoch 6/15\n",
      "\u001b[1m481/481\u001b[0m \u001b[32m━━━━━━━━━━━━━━━━━━━━\u001b[0m\u001b[37m\u001b[0m \u001b[1m7s\u001b[0m 14ms/step - loss: 0.0565 - val_loss: 0.0829\n",
      "Epoch 7/15\n",
      "\u001b[1m481/481\u001b[0m \u001b[32m━━━━━━━━━━━━━━━━━━━━\u001b[0m\u001b[37m\u001b[0m \u001b[1m7s\u001b[0m 14ms/step - loss: 0.0560 - val_loss: 0.0829\n",
      "Epoch 8/15\n",
      "\u001b[1m481/481\u001b[0m \u001b[32m━━━━━━━━━━━━━━━━━━━━\u001b[0m\u001b[37m\u001b[0m \u001b[1m7s\u001b[0m 14ms/step - loss: 0.0520 - val_loss: 0.0829\n",
      "Epoch 9/15\n",
      "\u001b[1m481/481\u001b[0m \u001b[32m━━━━━━━━━━━━━━━━━━━━\u001b[0m\u001b[37m\u001b[0m \u001b[1m7s\u001b[0m 15ms/step - loss: 0.0520 - val_loss: 0.0829\n",
      "Epoch 10/15\n",
      "\u001b[1m481/481\u001b[0m \u001b[32m━━━━━━━━━━━━━━━━━━━━\u001b[0m\u001b[37m\u001b[0m \u001b[1m7s\u001b[0m 14ms/step - loss: 0.0549 - val_loss: 0.0829\n",
      "Epoch 11/15\n",
      "\u001b[1m481/481\u001b[0m \u001b[32m━━━━━━━━━━━━━━━━━━━━\u001b[0m\u001b[37m\u001b[0m \u001b[1m7s\u001b[0m 15ms/step - loss: 0.0560 - val_loss: 0.0829\n",
      "Epoch 12/15\n",
      "\u001b[1m481/481\u001b[0m \u001b[32m━━━━━━━━━━━━━━━━━━━━\u001b[0m\u001b[37m\u001b[0m \u001b[1m7s\u001b[0m 15ms/step - loss: 0.0545 - val_loss: 0.0829\n",
      "Epoch 13/15\n",
      "\u001b[1m481/481\u001b[0m \u001b[32m━━━━━━━━━━━━━━━━━━━━\u001b[0m\u001b[37m\u001b[0m \u001b[1m7s\u001b[0m 14ms/step - loss: 0.0504 - val_loss: 0.0829\n",
      "Epoch 14/15\n",
      "\u001b[1m481/481\u001b[0m \u001b[32m━━━━━━━━━━━━━━━━━━━━\u001b[0m\u001b[37m\u001b[0m \u001b[1m7s\u001b[0m 15ms/step - loss: 0.0551 - val_loss: 0.0829\n",
      "Epoch 15/15\n",
      "\u001b[1m481/481\u001b[0m \u001b[32m━━━━━━━━━━━━━━━━━━━━\u001b[0m\u001b[37m\u001b[0m \u001b[1m7s\u001b[0m 14ms/step - loss: 0.0553 - val_loss: 0.0829\n"
     ]
    },
    {
     "data": {
      "text/plain": [
       "<keras.src.callbacks.history.History at 0x277ceeef490>"
      ]
     },
     "execution_count": 12,
     "metadata": {},
     "output_type": "execute_result"
    }
   ],
   "source": [
    "model.compile(loss = 'mse', optimizer = 'Adam')\n",
    "model.fit(X_train, y_train, validation_data = (X_test, y_test),\n",
    "         batch_size = 10, epochs = 15)"
   ]
  },
  {
   "cell_type": "code",
   "execution_count": 13,
   "id": "2cf4e1eb",
   "metadata": {},
   "outputs": [
    {
     "name": "stdout",
     "output_type": "stream",
     "text": [
      "\u001b[1m17/17\u001b[0m \u001b[32m━━━━━━━━━━━━━━━━━━━━\u001b[0m\u001b[37m\u001b[0m \u001b[1m1s\u001b[0m 21ms/step\n",
      "[[[0.]\n",
      "  [0.]\n",
      "  [0.]\n",
      "  ...\n",
      "  [0.]\n",
      "  [0.]\n",
      "  [0.]]\n",
      "\n",
      " [[0.]\n",
      "  [0.]\n",
      "  [0.]\n",
      "  ...\n",
      "  [0.]\n",
      "  [0.]\n",
      "  [0.]]\n",
      "\n",
      " [[0.]\n",
      "  [0.]\n",
      "  [0.]\n",
      "  ...\n",
      "  [0.]\n",
      "  [0.]\n",
      "  [0.]]\n",
      "\n",
      " ...\n",
      "\n",
      " [[0.]\n",
      "  [0.]\n",
      "  [0.]\n",
      "  ...\n",
      "  [0.]\n",
      "  [0.]\n",
      "  [0.]]\n",
      "\n",
      " [[0.]\n",
      "  [0.]\n",
      "  [0.]\n",
      "  ...\n",
      "  [0.]\n",
      "  [0.]\n",
      "  [0.]]\n",
      "\n",
      " [[0.]\n",
      "  [0.]\n",
      "  [0.]\n",
      "  ...\n",
      "  [0.]\n",
      "  [0.]\n",
      "  [0.]]]\n"
     ]
    }
   ],
   "source": [
    "# 예측\n",
    "pred = model.predict(X_test)\n",
    "print(pred)"
   ]
  },
  {
   "cell_type": "markdown",
   "id": "5a3fc800",
   "metadata": {},
   "source": [
    "# GRU 이용하기"
   ]
  },
  {
   "cell_type": "code",
   "execution_count": 14,
   "id": "3341aa4f",
   "metadata": {},
   "outputs": [
    {
     "data": {
      "text/html": [
       "<pre style=\"white-space:pre;overflow-x:auto;line-height:normal;font-family:Menlo,'DejaVu Sans Mono',consolas,'Courier New',monospace\"><span style=\"font-weight: bold\">Model: \"sequential_2\"</span>\n",
       "</pre>\n"
      ],
      "text/plain": [
       "\u001b[1mModel: \"sequential_2\"\u001b[0m\n"
      ]
     },
     "metadata": {},
     "output_type": "display_data"
    },
    {
     "data": {
      "text/html": [
       "<pre style=\"white-space:pre;overflow-x:auto;line-height:normal;font-family:Menlo,'DejaVu Sans Mono',consolas,'Courier New',monospace\">┏━━━━━━━━━━━━━━━━━━━━━━━━━━━━━━━━━┳━━━━━━━━━━━━━━━━━━━━━━━━┳━━━━━━━━━━━━━━━┓\n",
       "┃<span style=\"font-weight: bold\"> Layer (type)                    </span>┃<span style=\"font-weight: bold\"> Output Shape           </span>┃<span style=\"font-weight: bold\">       Param # </span>┃\n",
       "┡━━━━━━━━━━━━━━━━━━━━━━━━━━━━━━━━━╇━━━━━━━━━━━━━━━━━━━━━━━━╇━━━━━━━━━━━━━━━┩\n",
       "│ gru (<span style=\"color: #0087ff; text-decoration-color: #0087ff\">GRU</span>)                       │ (<span style=\"color: #00d7ff; text-decoration-color: #00d7ff\">None</span>, <span style=\"color: #00af00; text-decoration-color: #00af00\">50</span>, <span style=\"color: #00af00; text-decoration-color: #00af00\">50</span>)         │         <span style=\"color: #00af00; text-decoration-color: #00af00\">7,950</span> │\n",
       "├─────────────────────────────────┼────────────────────────┼───────────────┤\n",
       "│ gru_1 (<span style=\"color: #0087ff; text-decoration-color: #0087ff\">GRU</span>)                     │ (<span style=\"color: #00d7ff; text-decoration-color: #00d7ff\">None</span>, <span style=\"color: #00af00; text-decoration-color: #00af00\">50</span>, <span style=\"color: #00af00; text-decoration-color: #00af00\">64</span>)         │        <span style=\"color: #00af00; text-decoration-color: #00af00\">22,272</span> │\n",
       "├─────────────────────────────────┼────────────────────────┼───────────────┤\n",
       "│ gru_2 (<span style=\"color: #0087ff; text-decoration-color: #0087ff\">GRU</span>)                     │ (<span style=\"color: #00d7ff; text-decoration-color: #00d7ff\">None</span>, <span style=\"color: #00af00; text-decoration-color: #00af00\">50</span>, <span style=\"color: #00af00; text-decoration-color: #00af00\">64</span>)         │        <span style=\"color: #00af00; text-decoration-color: #00af00\">24,960</span> │\n",
       "├─────────────────────────────────┼────────────────────────┼───────────────┤\n",
       "│ dense_2 (<span style=\"color: #0087ff; text-decoration-color: #0087ff\">Dense</span>)                 │ (<span style=\"color: #00d7ff; text-decoration-color: #00d7ff\">None</span>, <span style=\"color: #00af00; text-decoration-color: #00af00\">50</span>, <span style=\"color: #00af00; text-decoration-color: #00af00\">1</span>)          │            <span style=\"color: #00af00; text-decoration-color: #00af00\">65</span> │\n",
       "└─────────────────────────────────┴────────────────────────┴───────────────┘\n",
       "</pre>\n"
      ],
      "text/plain": [
       "┏━━━━━━━━━━━━━━━━━━━━━━━━━━━━━━━━━┳━━━━━━━━━━━━━━━━━━━━━━━━┳━━━━━━━━━━━━━━━┓\n",
       "┃\u001b[1m \u001b[0m\u001b[1mLayer (type)                   \u001b[0m\u001b[1m \u001b[0m┃\u001b[1m \u001b[0m\u001b[1mOutput Shape          \u001b[0m\u001b[1m \u001b[0m┃\u001b[1m \u001b[0m\u001b[1m      Param #\u001b[0m\u001b[1m \u001b[0m┃\n",
       "┡━━━━━━━━━━━━━━━━━━━━━━━━━━━━━━━━━╇━━━━━━━━━━━━━━━━━━━━━━━━╇━━━━━━━━━━━━━━━┩\n",
       "│ gru (\u001b[38;5;33mGRU\u001b[0m)                       │ (\u001b[38;5;45mNone\u001b[0m, \u001b[38;5;34m50\u001b[0m, \u001b[38;5;34m50\u001b[0m)         │         \u001b[38;5;34m7,950\u001b[0m │\n",
       "├─────────────────────────────────┼────────────────────────┼───────────────┤\n",
       "│ gru_1 (\u001b[38;5;33mGRU\u001b[0m)                     │ (\u001b[38;5;45mNone\u001b[0m, \u001b[38;5;34m50\u001b[0m, \u001b[38;5;34m64\u001b[0m)         │        \u001b[38;5;34m22,272\u001b[0m │\n",
       "├─────────────────────────────────┼────────────────────────┼───────────────┤\n",
       "│ gru_2 (\u001b[38;5;33mGRU\u001b[0m)                     │ (\u001b[38;5;45mNone\u001b[0m, \u001b[38;5;34m50\u001b[0m, \u001b[38;5;34m64\u001b[0m)         │        \u001b[38;5;34m24,960\u001b[0m │\n",
       "├─────────────────────────────────┼────────────────────────┼───────────────┤\n",
       "│ dense_2 (\u001b[38;5;33mDense\u001b[0m)                 │ (\u001b[38;5;45mNone\u001b[0m, \u001b[38;5;34m50\u001b[0m, \u001b[38;5;34m1\u001b[0m)          │            \u001b[38;5;34m65\u001b[0m │\n",
       "└─────────────────────────────────┴────────────────────────┴───────────────┘\n"
      ]
     },
     "metadata": {},
     "output_type": "display_data"
    },
    {
     "data": {
      "text/html": [
       "<pre style=\"white-space:pre;overflow-x:auto;line-height:normal;font-family:Menlo,'DejaVu Sans Mono',consolas,'Courier New',monospace\"><span style=\"font-weight: bold\"> Total params: </span><span style=\"color: #00af00; text-decoration-color: #00af00\">55,247</span> (215.81 KB)\n",
       "</pre>\n"
      ],
      "text/plain": [
       "\u001b[1m Total params: \u001b[0m\u001b[38;5;34m55,247\u001b[0m (215.81 KB)\n"
      ]
     },
     "metadata": {},
     "output_type": "display_data"
    },
    {
     "data": {
      "text/html": [
       "<pre style=\"white-space:pre;overflow-x:auto;line-height:normal;font-family:Menlo,'DejaVu Sans Mono',consolas,'Courier New',monospace\"><span style=\"font-weight: bold\"> Trainable params: </span><span style=\"color: #00af00; text-decoration-color: #00af00\">55,247</span> (215.81 KB)\n",
       "</pre>\n"
      ],
      "text/plain": [
       "\u001b[1m Trainable params: \u001b[0m\u001b[38;5;34m55,247\u001b[0m (215.81 KB)\n"
      ]
     },
     "metadata": {},
     "output_type": "display_data"
    },
    {
     "data": {
      "text/html": [
       "<pre style=\"white-space:pre;overflow-x:auto;line-height:normal;font-family:Menlo,'DejaVu Sans Mono',consolas,'Courier New',monospace\"><span style=\"font-weight: bold\"> Non-trainable params: </span><span style=\"color: #00af00; text-decoration-color: #00af00\">0</span> (0.00 B)\n",
       "</pre>\n"
      ],
      "text/plain": [
       "\u001b[1m Non-trainable params: \u001b[0m\u001b[38;5;34m0\u001b[0m (0.00 B)\n"
      ]
     },
     "metadata": {},
     "output_type": "display_data"
    }
   ],
   "source": [
    "import keras\n",
    "\n",
    "model = keras.models.Sequential()\n",
    "\n",
    "# RNN 층 이전 층은 출력을 전달을 해줘야 합니다.\n",
    "#return_sequences 를 True로 설정하면 됩니다.\n",
    "# LSTM 은 입력, 출력, 망각게이트 3개를 가지지만\n",
    "# GRU는 업데이트와 리셋이라는 2개의 게이트만 소유\n",
    "# GRU 를 LSTM 의 간소화된 버전이라고 합니다.\n",
    "model.add(keras.layers.GRU(50, return_sequences = True, input_shape = (50, 1)))\n",
    "model.add(keras.layers.GRU(64, return_sequences = True))\n",
    "model.add(keras.layers.GRU(64, return_sequences = True))\n",
    "model.add(keras.layers.Dense(1, activation = 'relu'))\n",
    "\n",
    "model.summary()"
   ]
  },
  {
   "cell_type": "code",
   "execution_count": 15,
   "id": "35e74794",
   "metadata": {},
   "outputs": [
    {
     "name": "stdout",
     "output_type": "stream",
     "text": [
      "Epoch 1/15\n",
      "\u001b[1m481/481\u001b[0m \u001b[32m━━━━━━━━━━━━━━━━━━━━\u001b[0m\u001b[37m\u001b[0m \u001b[1m14s\u001b[0m 24ms/step - loss: 0.0520 - val_loss: 0.0678\n",
      "Epoch 2/15\n",
      "\u001b[1m481/481\u001b[0m \u001b[32m━━━━━━━━━━━━━━━━━━━━\u001b[0m\u001b[37m\u001b[0m \u001b[1m11s\u001b[0m 23ms/step - loss: 0.0544 - val_loss: 0.0719\n",
      "Epoch 3/15\n",
      "\u001b[1m481/481\u001b[0m \u001b[32m━━━━━━━━━━━━━━━━━━━━\u001b[0m\u001b[37m\u001b[0m \u001b[1m11s\u001b[0m 23ms/step - loss: 0.0563 - val_loss: 0.0569\n",
      "Epoch 4/15\n",
      "\u001b[1m481/481\u001b[0m \u001b[32m━━━━━━━━━━━━━━━━━━━━\u001b[0m\u001b[37m\u001b[0m \u001b[1m13s\u001b[0m 28ms/step - loss: 0.0541 - val_loss: 0.0633\n",
      "Epoch 5/15\n",
      "\u001b[1m481/481\u001b[0m \u001b[32m━━━━━━━━━━━━━━━━━━━━\u001b[0m\u001b[37m\u001b[0m \u001b[1m14s\u001b[0m 29ms/step - loss: 0.0535 - val_loss: 0.0660\n",
      "Epoch 6/15\n",
      "\u001b[1m481/481\u001b[0m \u001b[32m━━━━━━━━━━━━━━━━━━━━\u001b[0m\u001b[37m\u001b[0m \u001b[1m14s\u001b[0m 28ms/step - loss: 0.0547 - val_loss: 0.0630\n",
      "Epoch 7/15\n",
      "\u001b[1m481/481\u001b[0m \u001b[32m━━━━━━━━━━━━━━━━━━━━\u001b[0m\u001b[37m\u001b[0m \u001b[1m14s\u001b[0m 28ms/step - loss: 0.0546 - val_loss: 0.0725\n",
      "Epoch 8/15\n",
      "\u001b[1m481/481\u001b[0m \u001b[32m━━━━━━━━━━━━━━━━━━━━\u001b[0m\u001b[37m\u001b[0m \u001b[1m14s\u001b[0m 29ms/step - loss: 0.0536 - val_loss: 0.0529\n",
      "Epoch 9/15\n",
      "\u001b[1m481/481\u001b[0m \u001b[32m━━━━━━━━━━━━━━━━━━━━\u001b[0m\u001b[37m\u001b[0m \u001b[1m14s\u001b[0m 29ms/step - loss: 0.0585 - val_loss: 0.0709\n",
      "Epoch 10/15\n",
      "\u001b[1m481/481\u001b[0m \u001b[32m━━━━━━━━━━━━━━━━━━━━\u001b[0m\u001b[37m\u001b[0m \u001b[1m14s\u001b[0m 30ms/step - loss: 0.0521 - val_loss: 0.0690\n",
      "Epoch 11/15\n",
      "\u001b[1m481/481\u001b[0m \u001b[32m━━━━━━━━━━━━━━━━━━━━\u001b[0m\u001b[37m\u001b[0m \u001b[1m18s\u001b[0m 25ms/step - loss: 0.0537 - val_loss: 0.0730\n",
      "Epoch 12/15\n",
      "\u001b[1m481/481\u001b[0m \u001b[32m━━━━━━━━━━━━━━━━━━━━\u001b[0m\u001b[37m\u001b[0m \u001b[1m15s\u001b[0m 31ms/step - loss: 0.0505 - val_loss: 0.0710\n",
      "Epoch 13/15\n",
      "\u001b[1m481/481\u001b[0m \u001b[32m━━━━━━━━━━━━━━━━━━━━\u001b[0m\u001b[37m\u001b[0m \u001b[1m14s\u001b[0m 30ms/step - loss: 0.0543 - val_loss: 0.0689\n",
      "Epoch 14/15\n",
      "\u001b[1m481/481\u001b[0m \u001b[32m━━━━━━━━━━━━━━━━━━━━\u001b[0m\u001b[37m\u001b[0m \u001b[1m15s\u001b[0m 30ms/step - loss: 0.0545 - val_loss: 0.0749\n",
      "Epoch 15/15\n",
      "\u001b[1m481/481\u001b[0m \u001b[32m━━━━━━━━━━━━━━━━━━━━\u001b[0m\u001b[37m\u001b[0m \u001b[1m15s\u001b[0m 31ms/step - loss: 0.0509 - val_loss: 0.0647\n"
     ]
    },
    {
     "data": {
      "text/plain": [
       "<keras.src.callbacks.history.History at 0x277c3da4a90>"
      ]
     },
     "execution_count": 15,
     "metadata": {},
     "output_type": "execute_result"
    }
   ],
   "source": [
    "model.compile(loss = 'mse', optimizer = 'sgd')\n",
    "model.fit(X_train, y_train, validation_data = (X_test, y_test),\n",
    "         batch_size = 10, epochs = 15)"
   ]
  },
  {
   "cell_type": "code",
   "execution_count": 16,
   "id": "b54f81a3",
   "metadata": {},
   "outputs": [
    {
     "name": "stdout",
     "output_type": "stream",
     "text": [
      "\u001b[1m17/17\u001b[0m \u001b[32m━━━━━━━━━━━━━━━━━━━━\u001b[0m\u001b[37m\u001b[0m \u001b[1m1s\u001b[0m 33ms/step\n",
      "[[[0.03 ]\n",
      "  [0.034]\n",
      "  [0.035]\n",
      "  ...\n",
      "  [0.054]\n",
      "  [0.054]\n",
      "  [0.053]]\n",
      "\n",
      " [[0.03 ]\n",
      "  [0.034]\n",
      "  [0.035]\n",
      "  ...\n",
      "  [0.053]\n",
      "  [0.053]\n",
      "  [0.052]]\n",
      "\n",
      " [[0.03 ]\n",
      "  [0.034]\n",
      "  [0.035]\n",
      "  ...\n",
      "  [0.055]\n",
      "  [0.055]\n",
      "  [0.054]]\n",
      "\n",
      " ...\n",
      "\n",
      " [[0.03 ]\n",
      "  [0.034]\n",
      "  [0.035]\n",
      "  ...\n",
      "  [0.078]\n",
      "  [0.078]\n",
      "  [0.078]]\n",
      "\n",
      " [[0.03 ]\n",
      "  [0.034]\n",
      "  [0.035]\n",
      "  ...\n",
      "  [0.078]\n",
      "  [0.078]\n",
      "  [0.077]]\n",
      "\n",
      " [[0.03 ]\n",
      "  [0.034]\n",
      "  [0.035]\n",
      "  ...\n",
      "  [0.077]\n",
      "  [0.077]\n",
      "  [0.076]]]\n"
     ]
    }
   ],
   "source": [
    "# 예측\n",
    "pred = model.predict(X_test)\n",
    "print(pred)"
   ]
  },
  {
   "cell_type": "markdown",
   "id": "d4943cf0",
   "metadata": {},
   "source": [
    "# 자연어 처리"
   ]
  },
  {
   "cell_type": "markdown",
   "id": "8e0c5adc",
   "metadata": {},
   "source": [
    "## 토큰화 및 문장 인코딩"
   ]
  },
  {
   "cell_type": "code",
   "execution_count": 19,
   "id": "f7a91277",
   "metadata": {},
   "outputs": [
    {
     "name": "stdout",
     "output_type": "stream",
     "text": [
      "{'희찬이는': 1, '정말': 2, '좋아해': 3, '나를': 4, '영화를': 5, '무척': 6}\n"
     ]
    }
   ],
   "source": [
    "from tensorflow.keras.preprocessing.text import Tokenizer\n",
    "\n",
    "sentences = [\n",
    "    '희찬이는 나를 정말 정말 좋아해',\n",
    "    '희찬이는 영화를 무척 좋아해'\n",
    "]\n",
    "\n",
    "tokenizer = Tokenizer()\n",
    "tokenizer.fit_on_texts(sentences)\n",
    "print(tokenizer.word_index)"
   ]
  },
  {
   "cell_type": "code",
   "execution_count": 20,
   "id": "6ef41ebc",
   "metadata": {},
   "outputs": [
    {
     "name": "stdout",
     "output_type": "stream",
     "text": [
      "[[1, 4, 2, 2, 3], [1, 5, 6, 3]]\n"
     ]
    }
   ],
   "source": [
    "# 문장 인코딩\n",
    "word_encoding = tokenizer.texts_to_sequences(sentences)\n",
    "print(word_encoding)"
   ]
  },
  {
   "cell_type": "markdown",
   "id": "5e9a17d7",
   "metadata": {},
   "source": [
    "## OOV - 사전에 없는 단어"
   ]
  },
  {
   "cell_type": "code",
   "execution_count": 21,
   "id": "e46a8139",
   "metadata": {},
   "outputs": [
    {
     "name": "stdout",
     "output_type": "stream",
     "text": [
      "[[1, 3]]\n"
     ]
    }
   ],
   "source": [
    "new_sequences = ['희찬이는 별다줄을 좋아해']\n",
    "\n",
    "# 사전에 없는 단어는 기본적으로 무시가 됨\n",
    "word_encoding = tokenizer.texts_to_sequences(new_sequences)\n",
    "print(word_encoding)"
   ]
  },
  {
   "cell_type": "code",
   "execution_count": 23,
   "id": "413d55f8",
   "metadata": {},
   "outputs": [
    {
     "name": "stdout",
     "output_type": "stream",
     "text": [
      "{'<OOV>': 1, '희찬이는': 2, '정말': 3, '좋아해': 4, '나를': 5, '영화를': 6, '무척': 7}\n",
      "[[2, 1, 4]]\n"
     ]
    }
   ],
   "source": [
    "tokenizer = Tokenizer(oov_token = '<OOV>')\n",
    "tokenizer.fit_on_texts(sentences)\n",
    "print(tokenizer.word_index)\n",
    "\n",
    "word_encoding = tokenizer.texts_to_sequences(new_sequences)\n",
    "print(word_encoding)"
   ]
  },
  {
   "cell_type": "code",
   "execution_count": 24,
   "id": "5b9bb17e",
   "metadata": {},
   "outputs": [
    {
     "name": "stdout",
     "output_type": "stream",
     "text": [
      "{'<OOV>': 1, '희찬이는': 2, '정말': 3, '좋아해': 4, '나를': 5, '영화를': 6, '무척': 7}\n",
      "[[2, 1, 1]]\n"
     ]
    }
   ],
   "source": [
    "tokenizer = Tokenizer(oov_token = '<OOV>', num_words = 3)\n",
    "tokenizer.fit_on_texts(sentences)\n",
    "print(tokenizer.word_index)\n",
    "\n",
    "# 문장을 인코딩할 때 3개의 단어만 사용하고 나머지는 모두 OOV\n",
    "word_encoding = tokenizer.texts_to_sequences(new_sequences)\n",
    "print(word_encoding)"
   ]
  },
  {
   "cell_type": "markdown",
   "id": "7b99fb6a",
   "metadata": {},
   "source": [
    "## 패딩 - 길이 맞추기"
   ]
  },
  {
   "cell_type": "code",
   "execution_count": 27,
   "id": "b8978812",
   "metadata": {},
   "outputs": [
    {
     "name": "stdout",
     "output_type": "stream",
     "text": [
      "[[2 1 1 1 1]\n",
      " [0 2 1 1 1]]\n",
      "[[2 1 1 1 1]\n",
      " [2 1 1 1 0]]\n"
     ]
    }
   ],
   "source": [
    "from tensorflow.keras.preprocessing.sequence import pad_sequences\n",
    "\n",
    "sentences = [\n",
    "    '희찬이는 나를 정말 정말 좋아해',\n",
    "    '희찬이는 영화를 무척 좋아해'\n",
    "]\n",
    "word_encoding =  tokenizer.texts_to_sequences(sentences)\n",
    "\n",
    "#2개의 문장 길이를 동일하게 맞추기\n",
    "print(pad_sequences(word_encoding))\n",
    "print(pad_sequences(word_encoding, padding = 'post'))"
   ]
  },
  {
   "cell_type": "code",
   "execution_count": null,
   "id": "27bd1872",
   "metadata": {},
   "outputs": [],
   "source": []
  }
 ],
 "metadata": {
  "kernelspec": {
   "display_name": "Python 3 (ipykernel)",
   "language": "python",
   "name": "python3"
  },
  "language_info": {
   "codemirror_mode": {
    "name": "ipython",
    "version": 3
   },
   "file_extension": ".py",
   "mimetype": "text/x-python",
   "name": "python",
   "nbconvert_exporter": "python",
   "pygments_lexer": "ipython3",
   "version": "3.11.5"
  }
 },
 "nbformat": 4,
 "nbformat_minor": 5
}
